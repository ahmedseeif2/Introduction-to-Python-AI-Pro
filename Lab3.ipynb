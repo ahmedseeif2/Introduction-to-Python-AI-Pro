{
 "cells": [
  {
   "cell_type": "code",
   "execution_count": 1,
   "metadata": {},
   "outputs": [],
   "source": [
    "class Book:\n",
    "    def __init__(self, Id, name, quantity):\n",
    "        self.Id = Id\n",
    "        self.name = name\n",
    "        self.quantity = quantity\n",
    "    \n",
    "    def __str__(self):\n",
    "        return f\"we have {self.quantity} copies for book: {self.name}, The Book id is {self.Id}\"\n",
    "    \n",
    "    def book_exist(self, prefix):\n",
    "        book = self.name.startswith(prefix)\n",
    "        return f\"book exist: {book}\"\n",
    "\n",
    "class Library:\n",
    "    def __init__(self):\n",
    "        self.books = []\n",
    "        self.users = {}\n",
    "    \n",
    "    def add_book(self, book):\n",
    "        self.books.append(book)\n",
    "    \n",
    "    def add_user(self, user):\n",
    "        self.users[user] = []\n",
    "    \n",
    "    def return_users(self):\n",
    "        return [user.name for user in self.users]\n",
    "    \n",
    "    def borrow_book(self, user, book):\n",
    "        self.users[user].append(book)\n",
    "    \n",
    "    def return_book(self, user, book):\n",
    "        self.users[user].remove(book)\n",
    "    \n",
    "    def list_all_books(self):\n",
    "        return [book.name for book in self.books]\n",
    "    \n",
    "    def search(self, name):\n",
    "        return [book.name for book in self.books if name in book.name]\n",
    "    \n",
    "    def list_users_borrowrd_book(self, book):\n",
    "        for user, books in self.users.items():\n",
    "            print(f\"{user.name}, borrowd books: {[book.name for book in books]}\")\n",
    "    \n",
    "    def list_book_borrowing_user(self, book):\n",
    "        for usr, books in self.users.items():\n",
    "            if book.name in [book.name for book in books]:\n",
    "                print(usr.name)\n",
    "        "
   ]
  },
  {
   "cell_type": "code",
   "execution_count": 2,
   "metadata": {},
   "outputs": [],
   "source": [
    "class User:\n",
    "    def __init__(self, name):\n",
    "        self.name = name"
   ]
  },
  {
   "cell_type": "code",
   "execution_count": 3,
   "metadata": {},
   "outputs": [
    {
     "name": "stdout",
     "output_type": "stream",
     "text": [
      "we have 7 copies for book: Cpp1, The Book id is 1\n"
     ]
    }
   ],
   "source": [
    "book1 = Book(1, \"Cpp1\", 7)\n",
    "book2 = Book(3, \"Cpp2\", 7)\n",
    "book3 = Book(4, \"Cpp3\", 7)\n",
    "book4 = Book(5, \"Cpp4\", 7)\n",
    "\n",
    "print(book1)"
   ]
  },
  {
   "cell_type": "code",
   "execution_count": 4,
   "metadata": {},
   "outputs": [],
   "source": [
    "library = Library()\n",
    "library.add_book(book1)\n",
    "library.add_book(book2)\n",
    "library.add_book(book3)\n",
    "library.add_book(book4)"
   ]
  },
  {
   "cell_type": "code",
   "execution_count": 5,
   "metadata": {},
   "outputs": [
    {
     "data": {
      "text/plain": [
       "['Cpp1', 'Cpp2', 'Cpp3', 'Cpp4']"
      ]
     },
     "execution_count": 5,
     "metadata": {},
     "output_type": "execute_result"
    }
   ],
   "source": [
    "library.list_all_books()"
   ]
  },
  {
   "cell_type": "code",
   "execution_count": 6,
   "metadata": {},
   "outputs": [
    {
     "data": {
      "text/plain": [
       "['Cpp1', 'Cpp2', 'Cpp3', 'Cpp4']"
      ]
     },
     "execution_count": 6,
     "metadata": {},
     "output_type": "execute_result"
    }
   ],
   "source": [
    "library.search(\"Cpp\")"
   ]
  },
  {
   "cell_type": "code",
   "execution_count": 7,
   "metadata": {},
   "outputs": [],
   "source": [
    "user = User(\"muhammed\")\n",
    "user2 = User(\"Samy\")"
   ]
  },
  {
   "cell_type": "code",
   "execution_count": 8,
   "metadata": {},
   "outputs": [],
   "source": [
    "library.add_user(user)\n",
    "library.add_user(user2)"
   ]
  },
  {
   "cell_type": "code",
   "execution_count": 9,
   "metadata": {},
   "outputs": [],
   "source": [
    "library.borrow_book(user, book3)\n",
    "library.borrow_book(user2, book3)"
   ]
  },
  {
   "cell_type": "code",
   "execution_count": 10,
   "metadata": {},
   "outputs": [],
   "source": [
    "#library.return_book(user, book3)"
   ]
  },
  {
   "cell_type": "code",
   "execution_count": 11,
   "metadata": {},
   "outputs": [
    {
     "name": "stdout",
     "output_type": "stream",
     "text": [
      "muhammed, borrowd books: ['Cpp3']\n",
      "Samy, borrowd books: ['Cpp3']\n"
     ]
    }
   ],
   "source": [
    "library.list_users_borrowrd_book(book3)"
   ]
  },
  {
   "cell_type": "code",
   "execution_count": 12,
   "metadata": {},
   "outputs": [
    {
     "name": "stdout",
     "output_type": "stream",
     "text": [
      "muhammed\n",
      "Samy\n"
     ]
    }
   ],
   "source": [
    "library.list_book_borrowing_user(book3)"
   ]
  },
  {
   "cell_type": "markdown",
   "metadata": {},
   "source": [
    "___________________"
   ]
  },
  {
   "cell_type": "code",
   "execution_count": 15,
   "metadata": {},
   "outputs": [],
   "source": [
    "#Q1\n",
    "\n",
    "class Shape:\n",
    "    pass\n",
    "\n",
    "class TwoD(Shape):\n",
    "    pass\n",
    "\n",
    "class Circle(TwoD):\n",
    "    pass\n",
    "\n",
    "class Square(TwoD):\n",
    "    pass\n",
    "\n",
    "class Triangle(TwoD):\n",
    "    pass\n",
    "\n",
    "##########\n",
    "\n",
    "class ThreeD(Shape):\n",
    "    pass\n",
    "\n",
    "class Sphere(ThreeD):\n",
    "    pass\n",
    "\n",
    "class Cube(ThreeD):\n",
    "    pass\n",
    "\n",
    "class Tetra(ThreeD):\n",
    "    pass"
   ]
  },
  {
   "cell_type": "code",
   "execution_count": null,
   "metadata": {},
   "outputs": [],
   "source": [
    "#Q2"
   ]
  },
  {
   "cell_type": "code",
   "execution_count": 16,
   "metadata": {},
   "outputs": [],
   "source": [
    "class CommunityMember:\n",
    "    pass\n",
    "\n",
    "class Alumnus(CommunityMember):\n",
    "    pass\n",
    "\n",
    "class Student(CommunityMember):\n",
    "    pass\n",
    "\n",
    "class Employee(CommunityMember):\n",
    "    pass\n",
    "\n",
    "###########################\n",
    "class Staff(Employee):\n",
    "    pass\n",
    "\n",
    "class Faculty(Employee):\n",
    "    pass\n",
    "##########################\n",
    "\n",
    "class Teacher(Faculty):\n",
    "    pass\n",
    "\n",
    "class Admin(Faculty):\n",
    "    pass\n",
    "##########################\n",
    "class AdminTeacher(Teacher, Admin):\n",
    "    pass"
   ]
  },
  {
   "cell_type": "code",
   "execution_count": 17,
   "metadata": {},
   "outputs": [],
   "source": [
    "#Q3\n",
    "\n",
    "class Pay:\n",
    "    pass\n",
    "\n",
    "class Cash(Pay):\n",
    "    pass\n",
    "\n",
    "class Cheque(Pay):\n",
    "    pass\n",
    "\n",
    "class Card(Pay):\n",
    "    pass\n",
    "#############\n",
    "\n",
    "class Debit(Card):\n",
    "    pass\n",
    "class Credit(Card):\n",
    "    pass"
   ]
  },
  {
   "cell_type": "markdown",
   "metadata": {},
   "source": [
    "________________________"
   ]
  },
  {
   "cell_type": "code",
   "execution_count": 49,
   "metadata": {},
   "outputs": [],
   "source": [
    "class Patient:\n",
    "    def __init__(self, name, statues):\n",
    "        self.name = name\n",
    "        self.statues = statues\n",
    "    \n",
    "    def __str__(self):\n",
    "        statues = ['Normal', 'Urgent', 'Super Urgent'][self.statues]\n",
    "        return f'Patient: {self.name} is {statues}'"
   ]
  },
  {
   "cell_type": "code",
   "execution_count": 50,
   "metadata": {},
   "outputs": [],
   "source": [
    "class Hospital:\n",
    "    def __init__(self, specializations_cnt):\n",
    "        self.specializations = [[] for s in range(specializations_cnt)]\n",
    "        self.max_queue = 10\n",
    "        self.normal = 0\n",
    "        self.urgent = 1\n",
    "        self.super_urgent = 2\n",
    "    \n",
    "    def can_add_more_patient(self, specialization):\n",
    "        return len(self.specializations[specialization]) < self.max_queue\n",
    "    \n",
    "    def add_patient_smart(self, specialization, name, statues):\n",
    "        spec = self.specializations[specialization]\n",
    "        spec.append(Patient(name, statues))\n",
    "        spec.sort()\n",
    "    \n",
    "    \n",
    "    def add_patient(self, specialization, name, statues):\n",
    "        spec = self.specializations[specialization]\n",
    "        patient = Patient(name, statues)\n",
    "        \n",
    "        if statues == 0 or len(spec) == 0:\n",
    "            spec.append(patient)\n",
    "        \n",
    "        elif statues == 1:\n",
    "            if spec[-1].statues != self.normal:\n",
    "                spec.append(patient)\n",
    "            else:\n",
    "                for idx, patient in enumerate(spec):\n",
    "                    if patient.statues == self.normal:\n",
    "                        spec.insert(idx, patient)\n",
    "                        break\n",
    "        else:\n",
    "            if spec[-1].statues == self.super_urgent:      \n",
    "                spec.append(patient)\n",
    "            else:   \n",
    "                for idx, patient in enumerate(spec):\n",
    "                    if patient.statues == self.normal or patient.statues  == self.urgent:\n",
    "                        spec.insert(idx, patient)\n",
    "                        break\n",
    "                        \n",
    "    def print_patients(self):\n",
    "        results = []\n",
    "        for idx, specialization in enumerate(self.specializations):\n",
    "            if not specialization:\n",
    "                continue\n",
    "            \n",
    "            cur_patients = []\n",
    "            for patient in specialization:\n",
    "                cur_patients.append(str(patient))\n",
    "            results.append((idx, cur_patients))\n",
    "        return results\n",
    "    \n",
    "    def get_next_patients(self, specialization):\n",
    "        if len(self.specializations[specialization]) == 0:\n",
    "            return None\n",
    "        return self.specializations[specialization].pop(0)\n",
    "\n",
    "    def remove_patient(self, specialization, name):\n",
    "        spec = self.specializations[specialization]\n",
    "        for idx, patient in enumerate(spec):\n",
    "            if patient.name == name:\n",
    "                del spec[idx]\n",
    "                return True\n",
    "        return False"
   ]
  },
  {
   "cell_type": "code",
   "execution_count": 51,
   "metadata": {},
   "outputs": [],
   "source": [
    "hospital_manger = Hospital(20)\n",
    "\n",
    "for i in range(10):\n",
    "    hospital_manger.add_patient(2, 'Dummy' + str(i), i % 3)\n",
    "for i in range(4):\n",
    "    hospital_manger.add_patient(5, 'AnotherDummy' + str(i), 0)\n",
    "for i in range(5):\n",
    "    hospital_manger.add_patient(8, 'ThirdDummy' + str(i), 1)\n",
    "for i in range(3):\n",
    "    hospital_manger.add_patient(12, 'ForthDummy' + str(i), 2)\n",
    "for i in range(3):\n",
    "    hospital_manger.add_patient(13, 'FifthDummy' + str(i), 1)\n",
    "    hospital_manger.add_patient(13, 'FifthDummy' + str(i+5), 2)\n"
   ]
  },
  {
   "cell_type": "code",
   "execution_count": 52,
   "metadata": {},
   "outputs": [
    {
     "data": {
      "text/plain": [
       "[(2,\n",
       "  ['Patient: Dummy0 is Normal',\n",
       "   'Patient: Dummy0 is Normal',\n",
       "   'Patient: Dummy0 is Normal',\n",
       "   'Patient: Dummy0 is Normal',\n",
       "   'Patient: Dummy0 is Normal',\n",
       "   'Patient: Dummy0 is Normal',\n",
       "   'Patient: Dummy0 is Normal',\n",
       "   'Patient: Dummy3 is Normal',\n",
       "   'Patient: Dummy6 is Normal',\n",
       "   'Patient: Dummy9 is Normal']),\n",
       " (5,\n",
       "  ['Patient: AnotherDummy0 is Normal',\n",
       "   'Patient: AnotherDummy1 is Normal',\n",
       "   'Patient: AnotherDummy2 is Normal',\n",
       "   'Patient: AnotherDummy3 is Normal']),\n",
       " (8,\n",
       "  ['Patient: ThirdDummy0 is Urgent',\n",
       "   'Patient: ThirdDummy1 is Urgent',\n",
       "   'Patient: ThirdDummy2 is Urgent',\n",
       "   'Patient: ThirdDummy3 is Urgent',\n",
       "   'Patient: ThirdDummy4 is Urgent']),\n",
       " (12,\n",
       "  ['Patient: ForthDummy0 is Super Urgent',\n",
       "   'Patient: ForthDummy1 is Super Urgent',\n",
       "   'Patient: ForthDummy2 is Super Urgent']),\n",
       " (13,\n",
       "  ['Patient: FifthDummy0 is Urgent',\n",
       "   'Patient: FifthDummy0 is Urgent',\n",
       "   'Patient: FifthDummy0 is Urgent',\n",
       "   'Patient: FifthDummy0 is Urgent',\n",
       "   'Patient: FifthDummy1 is Urgent',\n",
       "   'Patient: FifthDummy2 is Urgent'])]"
      ]
     },
     "execution_count": 52,
     "metadata": {},
     "output_type": "execute_result"
    }
   ],
   "source": [
    "hospital_manger.print_patients()"
   ]
  },
  {
   "cell_type": "code",
   "execution_count": null,
   "metadata": {},
   "outputs": [],
   "source": []
  }
 ],
 "metadata": {
  "kernelspec": {
   "display_name": "Python 3",
   "language": "python",
   "name": "python3"
  },
  "language_info": {
   "codemirror_mode": {
    "name": "ipython",
    "version": 3
   },
   "file_extension": ".py",
   "mimetype": "text/x-python",
   "name": "python",
   "nbconvert_exporter": "python",
   "pygments_lexer": "ipython3",
   "version": "3.7.10"
  }
 },
 "nbformat": 4,
 "nbformat_minor": 4
}
