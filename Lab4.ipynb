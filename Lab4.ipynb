{
 "cells": [
  {
   "cell_type": "code",
   "execution_count": 2,
   "metadata": {},
   "outputs": [],
   "source": [
    "file = open(\"file.txt\", \"w\")"
   ]
  },
  {
   "cell_type": "code",
   "execution_count": 5,
   "metadata": {},
   "outputs": [
    {
     "data": {
      "text/plain": [
       "31"
      ]
     },
     "execution_count": 5,
     "metadata": {},
     "output_type": "execute_result"
    }
   ],
   "source": [
    "file.write(str([x for x in range(1, 11)]))"
   ]
  },
  {
   "cell_type": "code",
   "execution_count": 6,
   "metadata": {},
   "outputs": [],
   "source": [
    "file.close()"
   ]
  },
  {
   "cell_type": "code",
   "execution_count": 7,
   "metadata": {},
   "outputs": [],
   "source": [
    "file =  open(\"file.txt\")"
   ]
  },
  {
   "cell_type": "code",
   "execution_count": 8,
   "metadata": {},
   "outputs": [
    {
     "data": {
      "text/plain": [
       "'[1, 2, 3, 4, 5, 6, 7, 8, 9, 10]'"
      ]
     },
     "execution_count": 8,
     "metadata": {},
     "output_type": "execute_result"
    }
   ],
   "source": [
    "file.read()"
   ]
  },
  {
   "cell_type": "code",
   "execution_count": 9,
   "metadata": {},
   "outputs": [],
   "source": [
    "file.close()"
   ]
  },
  {
   "cell_type": "code",
   "execution_count": 2,
   "metadata": {},
   "outputs": [],
   "source": [
    "import numpy as np"
   ]
  },
  {
   "cell_type": "code",
   "execution_count": 2,
   "metadata": {},
   "outputs": [],
   "source": [
    "import pandas as pd"
   ]
  },
  {
   "cell_type": "code",
   "execution_count": 3,
   "metadata": {},
   "outputs": [],
   "source": [
    "df = pd.read_csv(\"Data.csv\")"
   ]
  },
  {
   "cell_type": "code",
   "execution_count": 5,
   "metadata": {},
   "outputs": [
    {
     "data": {
      "text/html": [
       "<div>\n",
       "<style scoped>\n",
       "    .dataframe tbody tr th:only-of-type {\n",
       "        vertical-align: middle;\n",
       "    }\n",
       "\n",
       "    .dataframe tbody tr th {\n",
       "        vertical-align: top;\n",
       "    }\n",
       "\n",
       "    .dataframe thead th {\n",
       "        text-align: right;\n",
       "    }\n",
       "</style>\n",
       "<table border=\"1\" class=\"dataframe\">\n",
       "  <thead>\n",
       "    <tr style=\"text-align: right;\">\n",
       "      <th></th>\n",
       "      <th>Unnamed: 0</th>\n",
       "      <th>index</th>\n",
       "      <th>ID</th>\n",
       "      <th>Make</th>\n",
       "      <th>Model</th>\n",
       "      <th>Year</th>\n",
       "      <th>MSRP</th>\n",
       "      <th>Invoice</th>\n",
       "      <th>Colors exterior</th>\n",
       "      <th>Colors interior</th>\n",
       "      <th>...</th>\n",
       "      <th>Country of origin</th>\n",
       "      <th>Car classification</th>\n",
       "      <th>Platform code / generation number</th>\n",
       "      <th>Date added</th>\n",
       "      <th>EPA mileage (mpg) City</th>\n",
       "      <th>EPA mileage (mpg) Highway</th>\n",
       "      <th>Range (miles) City</th>\n",
       "      <th>Range (miles) Highway</th>\n",
       "      <th>MSRP Range low</th>\n",
       "      <th>MSRP Range high</th>\n",
       "    </tr>\n",
       "  </thead>\n",
       "  <tbody>\n",
       "    <tr>\n",
       "      <th>0</th>\n",
       "      <td>0</td>\n",
       "      <td>13</td>\n",
       "      <td>213</td>\n",
       "      <td>BMW</td>\n",
       "      <td>3 Series</td>\n",
       "      <td>1990</td>\n",
       "      <td>NaN</td>\n",
       "      <td>NaN</td>\n",
       "      <td>NaN</td>\n",
       "      <td>NaN</td>\n",
       "      <td>...</td>\n",
       "      <td>Germany</td>\n",
       "      <td>Compact car</td>\n",
       "      <td>E30</td>\n",
       "      <td>2020-02-14 00:00:00</td>\n",
       "      <td>16.0</td>\n",
       "      <td>23.0</td>\n",
       "      <td>262.4</td>\n",
       "      <td>377.2</td>\n",
       "      <td>NaN</td>\n",
       "      <td>NaN</td>\n",
       "    </tr>\n",
       "    <tr>\n",
       "      <th>1</th>\n",
       "      <td>1</td>\n",
       "      <td>14</td>\n",
       "      <td>216</td>\n",
       "      <td>BMW</td>\n",
       "      <td>3 Series</td>\n",
       "      <td>1990</td>\n",
       "      <td>NaN</td>\n",
       "      <td>NaN</td>\n",
       "      <td>NaN</td>\n",
       "      <td>NaN</td>\n",
       "      <td>...</td>\n",
       "      <td>Germany</td>\n",
       "      <td>Compact car</td>\n",
       "      <td>E30</td>\n",
       "      <td>2020-02-14 00:00:00</td>\n",
       "      <td>16.0</td>\n",
       "      <td>22.0</td>\n",
       "      <td>262.4</td>\n",
       "      <td>360.8</td>\n",
       "      <td>NaN</td>\n",
       "      <td>NaN</td>\n",
       "    </tr>\n",
       "    <tr>\n",
       "      <th>2</th>\n",
       "      <td>2</td>\n",
       "      <td>15</td>\n",
       "      <td>222</td>\n",
       "      <td>BMW</td>\n",
       "      <td>3 Series</td>\n",
       "      <td>1990</td>\n",
       "      <td>NaN</td>\n",
       "      <td>NaN</td>\n",
       "      <td>NaN</td>\n",
       "      <td>NaN</td>\n",
       "      <td>...</td>\n",
       "      <td>Germany</td>\n",
       "      <td>Compact car</td>\n",
       "      <td>E30</td>\n",
       "      <td>2020-02-14 00:00:00</td>\n",
       "      <td>15.0</td>\n",
       "      <td>22.0</td>\n",
       "      <td>246.0</td>\n",
       "      <td>360.8</td>\n",
       "      <td>NaN</td>\n",
       "      <td>NaN</td>\n",
       "    </tr>\n",
       "    <tr>\n",
       "      <th>3</th>\n",
       "      <td>3</td>\n",
       "      <td>16</td>\n",
       "      <td>218</td>\n",
       "      <td>BMW</td>\n",
       "      <td>3 Series</td>\n",
       "      <td>1990</td>\n",
       "      <td>NaN</td>\n",
       "      <td>NaN</td>\n",
       "      <td>NaN</td>\n",
       "      <td>NaN</td>\n",
       "      <td>...</td>\n",
       "      <td>Germany</td>\n",
       "      <td>Compact car</td>\n",
       "      <td>E30</td>\n",
       "      <td>2020-02-14 00:00:00</td>\n",
       "      <td>16.0</td>\n",
       "      <td>22.0</td>\n",
       "      <td>262.4</td>\n",
       "      <td>360.8</td>\n",
       "      <td>NaN</td>\n",
       "      <td>NaN</td>\n",
       "    </tr>\n",
       "    <tr>\n",
       "      <th>4</th>\n",
       "      <td>4</td>\n",
       "      <td>17</td>\n",
       "      <td>215</td>\n",
       "      <td>BMW</td>\n",
       "      <td>3 Series</td>\n",
       "      <td>1990</td>\n",
       "      <td>NaN</td>\n",
       "      <td>NaN</td>\n",
       "      <td>NaN</td>\n",
       "      <td>NaN</td>\n",
       "      <td>...</td>\n",
       "      <td>Germany</td>\n",
       "      <td>Compact car</td>\n",
       "      <td>E30</td>\n",
       "      <td>2020-02-14 00:00:00</td>\n",
       "      <td>16.0</td>\n",
       "      <td>22.0</td>\n",
       "      <td>262.4</td>\n",
       "      <td>360.8</td>\n",
       "      <td>NaN</td>\n",
       "      <td>NaN</td>\n",
       "    </tr>\n",
       "  </tbody>\n",
       "</table>\n",
       "<p>5 rows × 99 columns</p>\n",
       "</div>"
      ],
      "text/plain": [
       "   Unnamed: 0  index   ID Make     Model  Year  MSRP  Invoice Colors exterior  \\\n",
       "0           0     13  213  BMW  3 Series  1990   NaN      NaN             NaN   \n",
       "1           1     14  216  BMW  3 Series  1990   NaN      NaN             NaN   \n",
       "2           2     15  222  BMW  3 Series  1990   NaN      NaN             NaN   \n",
       "3           3     16  218  BMW  3 Series  1990   NaN      NaN             NaN   \n",
       "4           4     17  215  BMW  3 Series  1990   NaN      NaN             NaN   \n",
       "\n",
       "  Colors interior  ... Country of origin  Car classification  \\\n",
       "0             NaN  ...           Germany         Compact car   \n",
       "1             NaN  ...           Germany         Compact car   \n",
       "2             NaN  ...           Germany         Compact car   \n",
       "3             NaN  ...           Germany         Compact car   \n",
       "4             NaN  ...           Germany         Compact car   \n",
       "\n",
       "   Platform code / generation number           Date added  \\\n",
       "0                                E30  2020-02-14 00:00:00   \n",
       "1                                E30  2020-02-14 00:00:00   \n",
       "2                                E30  2020-02-14 00:00:00   \n",
       "3                                E30  2020-02-14 00:00:00   \n",
       "4                                E30  2020-02-14 00:00:00   \n",
       "\n",
       "   EPA mileage (mpg) City  EPA mileage (mpg) Highway  Range (miles) City  \\\n",
       "0                    16.0                       23.0               262.4   \n",
       "1                    16.0                       22.0               262.4   \n",
       "2                    15.0                       22.0               246.0   \n",
       "3                    16.0                       22.0               262.4   \n",
       "4                    16.0                       22.0               262.4   \n",
       "\n",
       "   Range (miles) Highway  MSRP Range low  MSRP Range high  \n",
       "0                  377.2             NaN              NaN  \n",
       "1                  360.8             NaN              NaN  \n",
       "2                  360.8             NaN              NaN  \n",
       "3                  360.8             NaN              NaN  \n",
       "4                  360.8             NaN              NaN  \n",
       "\n",
       "[5 rows x 99 columns]"
      ]
     },
     "execution_count": 5,
     "metadata": {},
     "output_type": "execute_result"
    }
   ],
   "source": [
    "df.head(5)"
   ]
  },
  {
   "cell_type": "code",
   "execution_count": 6,
   "metadata": {},
   "outputs": [
    {
     "data": {
      "text/html": [
       "<div>\n",
       "<style scoped>\n",
       "    .dataframe tbody tr th:only-of-type {\n",
       "        vertical-align: middle;\n",
       "    }\n",
       "\n",
       "    .dataframe tbody tr th {\n",
       "        vertical-align: top;\n",
       "    }\n",
       "\n",
       "    .dataframe thead th {\n",
       "        text-align: right;\n",
       "    }\n",
       "</style>\n",
       "<table border=\"1\" class=\"dataframe\">\n",
       "  <thead>\n",
       "    <tr style=\"text-align: right;\">\n",
       "      <th></th>\n",
       "      <th>Unnamed: 0</th>\n",
       "      <th>index</th>\n",
       "      <th>ID</th>\n",
       "      <th>Make</th>\n",
       "      <th>Model</th>\n",
       "      <th>Year</th>\n",
       "      <th>MSRP</th>\n",
       "      <th>Invoice</th>\n",
       "      <th>Colors exterior</th>\n",
       "      <th>Colors interior</th>\n",
       "      <th>...</th>\n",
       "      <th>Country of origin</th>\n",
       "      <th>Car classification</th>\n",
       "      <th>Platform code / generation number</th>\n",
       "      <th>Date added</th>\n",
       "      <th>EPA mileage (mpg) City</th>\n",
       "      <th>EPA mileage (mpg) Highway</th>\n",
       "      <th>Range (miles) City</th>\n",
       "      <th>Range (miles) Highway</th>\n",
       "      <th>MSRP Range low</th>\n",
       "      <th>MSRP Range high</th>\n",
       "    </tr>\n",
       "  </thead>\n",
       "  <tbody>\n",
       "    <tr>\n",
       "      <th>531</th>\n",
       "      <td>533</td>\n",
       "      <td>546</td>\n",
       "      <td>401819541</td>\n",
       "      <td>Toyota</td>\n",
       "      <td>Prius</td>\n",
       "      <td>2020</td>\n",
       "      <td>25535.0</td>\n",
       "      <td>24003.0</td>\n",
       "      <td>[{'color_name': 'lassic Silver Metallic', 'col...</td>\n",
       "      <td>[{'color_name': 'oonstone, cloth', 'color_code...</td>\n",
       "      <td>...</td>\n",
       "      <td>Japan</td>\n",
       "      <td>Compact car</td>\n",
       "      <td>XW50</td>\n",
       "      <td>2020-02-14 00:00:00</td>\n",
       "      <td>54.0</td>\n",
       "      <td>50.0</td>\n",
       "      <td>610.2</td>\n",
       "      <td>565.0</td>\n",
       "      <td>24,325</td>\n",
       "      <td>32,500</td>\n",
       "    </tr>\n",
       "    <tr>\n",
       "      <th>532</th>\n",
       "      <td>534</td>\n",
       "      <td>547</td>\n",
       "      <td>401819537</td>\n",
       "      <td>Toyota</td>\n",
       "      <td>Prius</td>\n",
       "      <td>2020</td>\n",
       "      <td>26935.0</td>\n",
       "      <td>25319.0</td>\n",
       "      <td>[{'color_name': 'lassic Silver Metallic', 'col...</td>\n",
       "      <td>[{'color_name': 'oonstone, cloth', 'color_code...</td>\n",
       "      <td>...</td>\n",
       "      <td>Japan</td>\n",
       "      <td>Compact car</td>\n",
       "      <td>XW50</td>\n",
       "      <td>2020-02-14 00:00:00</td>\n",
       "      <td>52.0</td>\n",
       "      <td>48.0</td>\n",
       "      <td>551.2</td>\n",
       "      <td>508.8</td>\n",
       "      <td>24,325</td>\n",
       "      <td>32,500</td>\n",
       "    </tr>\n",
       "    <tr>\n",
       "      <th>533</th>\n",
       "      <td>535</td>\n",
       "      <td>548</td>\n",
       "      <td>401819540</td>\n",
       "      <td>Toyota</td>\n",
       "      <td>Prius</td>\n",
       "      <td>2020</td>\n",
       "      <td>28375.0</td>\n",
       "      <td>26416.0</td>\n",
       "      <td>[{'color_name': 'lassic Silver Metallic', 'col...</td>\n",
       "      <td>[{'color_name': 'oonstone, leatherette', 'colo...</td>\n",
       "      <td>...</td>\n",
       "      <td>Japan</td>\n",
       "      <td>Compact car</td>\n",
       "      <td>XW50</td>\n",
       "      <td>2020-02-14 00:00:00</td>\n",
       "      <td>54.0</td>\n",
       "      <td>50.0</td>\n",
       "      <td>610.2</td>\n",
       "      <td>565.0</td>\n",
       "      <td>24,325</td>\n",
       "      <td>32,500</td>\n",
       "    </tr>\n",
       "    <tr>\n",
       "      <th>534</th>\n",
       "      <td>536</td>\n",
       "      <td>549</td>\n",
       "      <td>401819538</td>\n",
       "      <td>Toyota</td>\n",
       "      <td>Prius</td>\n",
       "      <td>2020</td>\n",
       "      <td>29375.0</td>\n",
       "      <td>27346.0</td>\n",
       "      <td>[{'color_name': 'lassic Silver Metallic', 'col...</td>\n",
       "      <td>[{'color_name': 'oonstone, leatherette', 'colo...</td>\n",
       "      <td>...</td>\n",
       "      <td>Japan</td>\n",
       "      <td>Compact car</td>\n",
       "      <td>XW50</td>\n",
       "      <td>2020-02-14 00:00:00</td>\n",
       "      <td>52.0</td>\n",
       "      <td>48.0</td>\n",
       "      <td>551.2</td>\n",
       "      <td>508.8</td>\n",
       "      <td>24,325</td>\n",
       "      <td>32,500</td>\n",
       "    </tr>\n",
       "    <tr>\n",
       "      <th>535</th>\n",
       "      <td>537</td>\n",
       "      <td>550</td>\n",
       "      <td>401819542</td>\n",
       "      <td>Toyota</td>\n",
       "      <td>Prius</td>\n",
       "      <td>2020</td>\n",
       "      <td>32500.0</td>\n",
       "      <td>30256.0</td>\n",
       "      <td>[{'color_name': 'lassic Silver Metallic', 'col...</td>\n",
       "      <td>[{'color_name': 'oonstone, leatherette', 'colo...</td>\n",
       "      <td>...</td>\n",
       "      <td>Japan</td>\n",
       "      <td>Compact car</td>\n",
       "      <td>XW50</td>\n",
       "      <td>2020-02-14 00:00:00</td>\n",
       "      <td>54.0</td>\n",
       "      <td>50.0</td>\n",
       "      <td>610.2</td>\n",
       "      <td>565.0</td>\n",
       "      <td>24,325</td>\n",
       "      <td>32,500</td>\n",
       "    </tr>\n",
       "  </tbody>\n",
       "</table>\n",
       "<p>5 rows × 99 columns</p>\n",
       "</div>"
      ],
      "text/plain": [
       "     Unnamed: 0  index         ID    Make  Model  Year     MSRP  Invoice  \\\n",
       "531         533    546  401819541  Toyota  Prius  2020  25535.0  24003.0   \n",
       "532         534    547  401819537  Toyota  Prius  2020  26935.0  25319.0   \n",
       "533         535    548  401819540  Toyota  Prius  2020  28375.0  26416.0   \n",
       "534         536    549  401819538  Toyota  Prius  2020  29375.0  27346.0   \n",
       "535         537    550  401819542  Toyota  Prius  2020  32500.0  30256.0   \n",
       "\n",
       "                                       Colors exterior  \\\n",
       "531  [{'color_name': 'lassic Silver Metallic', 'col...   \n",
       "532  [{'color_name': 'lassic Silver Metallic', 'col...   \n",
       "533  [{'color_name': 'lassic Silver Metallic', 'col...   \n",
       "534  [{'color_name': 'lassic Silver Metallic', 'col...   \n",
       "535  [{'color_name': 'lassic Silver Metallic', 'col...   \n",
       "\n",
       "                                       Colors interior  ... Country of origin  \\\n",
       "531  [{'color_name': 'oonstone, cloth', 'color_code...  ...             Japan   \n",
       "532  [{'color_name': 'oonstone, cloth', 'color_code...  ...             Japan   \n",
       "533  [{'color_name': 'oonstone, leatherette', 'colo...  ...             Japan   \n",
       "534  [{'color_name': 'oonstone, leatherette', 'colo...  ...             Japan   \n",
       "535  [{'color_name': 'oonstone, leatherette', 'colo...  ...             Japan   \n",
       "\n",
       "     Car classification  Platform code / generation number  \\\n",
       "531         Compact car                               XW50   \n",
       "532         Compact car                               XW50   \n",
       "533         Compact car                               XW50   \n",
       "534         Compact car                               XW50   \n",
       "535         Compact car                               XW50   \n",
       "\n",
       "              Date added  EPA mileage (mpg) City  EPA mileage (mpg) Highway  \\\n",
       "531  2020-02-14 00:00:00                    54.0                       50.0   \n",
       "532  2020-02-14 00:00:00                    52.0                       48.0   \n",
       "533  2020-02-14 00:00:00                    54.0                       50.0   \n",
       "534  2020-02-14 00:00:00                    52.0                       48.0   \n",
       "535  2020-02-14 00:00:00                    54.0                       50.0   \n",
       "\n",
       "     Range (miles) City  Range (miles) Highway  MSRP Range low  \\\n",
       "531               610.2                  565.0         24,325    \n",
       "532               551.2                  508.8         24,325    \n",
       "533               610.2                  565.0         24,325    \n",
       "534               551.2                  508.8         24,325    \n",
       "535               610.2                  565.0         24,325    \n",
       "\n",
       "     MSRP Range high  \n",
       "531           32,500  \n",
       "532           32,500  \n",
       "533           32,500  \n",
       "534           32,500  \n",
       "535           32,500  \n",
       "\n",
       "[5 rows x 99 columns]"
      ]
     },
     "execution_count": 6,
     "metadata": {},
     "output_type": "execute_result"
    }
   ],
   "source": [
    "df.tail(5)"
   ]
  },
  {
   "cell_type": "code",
   "execution_count": 52,
   "metadata": {},
   "outputs": [],
   "source": [
    "with open('data.txt') as f:\n",
    "    array = [[abs(int(x)) for x in line.split()] for line in f]"
   ]
  },
  {
   "cell_type": "code",
   "execution_count": 53,
   "metadata": {},
   "outputs": [
    {
     "data": {
      "text/plain": [
       "[[10], [20], [2], [5], [5], [8], [10]]"
      ]
     },
     "execution_count": 53,
     "metadata": {},
     "output_type": "execute_result"
    }
   ],
   "source": [
    "array"
   ]
  },
  {
   "cell_type": "code",
   "execution_count": 54,
   "metadata": {},
   "outputs": [
    {
     "data": {
      "text/plain": [
       "20"
      ]
     },
     "execution_count": 54,
     "metadata": {},
     "output_type": "execute_result"
    }
   ],
   "source": [
    "maxi = max(array)[0]\n",
    "maxi"
   ]
  },
  {
   "cell_type": "code",
   "execution_count": 56,
   "metadata": {},
   "outputs": [],
   "source": [
    "sum = 0\n",
    "for i in array:\n",
    "    sum += i[0]"
   ]
  },
  {
   "cell_type": "code",
   "execution_count": 57,
   "metadata": {},
   "outputs": [
    {
     "data": {
      "text/plain": [
       "1200"
      ]
     },
     "execution_count": 57,
     "metadata": {},
     "output_type": "execute_result"
    }
   ],
   "source": [
    "sum * maxi"
   ]
  },
  {
   "cell_type": "code",
   "execution_count": 110,
   "metadata": {},
   "outputs": [
    {
     "name": "stdout",
     "output_type": "stream",
     "text": [
      "0 1 2 3 4 5 6 7 8 9 "
     ]
    }
   ],
   "source": [
    "#Q1\n",
    "for x in range(10):\n",
    "    print(x, end = ' ') "
   ]
  },
  {
   "cell_type": "code",
   "execution_count": null,
   "metadata": {},
   "outputs": [],
   "source": []
  },
  {
   "cell_type": "code",
   "execution_count": 64,
   "metadata": {},
   "outputs": [
    {
     "data": {
      "text/plain": [
       "'3.44'"
      ]
     },
     "execution_count": 64,
     "metadata": {},
     "output_type": "execute_result"
    }
   ],
   "source": [
    "#Q2\n",
    "\"{:.2f}\".format(3.4444)"
   ]
  },
  {
   "cell_type": "code",
   "execution_count": 112,
   "metadata": {},
   "outputs": [
    {
     "name": "stdout",
     "output_type": "stream",
     "text": [
      "12.3 222.3\n"
     ]
    },
    {
     "data": {
      "text/plain": [
       "[12.3, 222.3]"
      ]
     },
     "execution_count": 112,
     "metadata": {},
     "output_type": "execute_result"
    }
   ],
   "source": [
    "#Q3\n",
    "list(map(float, input().split()))"
   ]
  },
  {
   "cell_type": "code",
   "execution_count": 76,
   "metadata": {},
   "outputs": [
    {
     "name": "stdout",
     "output_type": "stream",
     "text": [
      "file is empty\n"
     ]
    }
   ],
   "source": [
    "#Q4\n",
    "with open('file.txt') as my_file:\n",
    "    first = my_file.read(1) \n",
    "    if not first:\n",
    "        print (\"file is empty\")\n",
    "    else:\n",
    "        my_file.seek(0) "
   ]
  },
  {
   "cell_type": "code",
   "execution_count": 77,
   "metadata": {},
   "outputs": [],
   "source": [
    "sampleJson = {\"id\": 1, \"name\": \"value2\", \"age\": 29}"
   ]
  },
  {
   "cell_type": "code",
   "execution_count": 79,
   "metadata": {},
   "outputs": [
    {
     "data": {
      "text/plain": [
       "{'age': 29, 'id': 1, 'name': 'value2'}"
      ]
     },
     "execution_count": 79,
     "metadata": {},
     "output_type": "execute_result"
    }
   ],
   "source": [
    "import json\n",
    "json.loads(json.dumps(sampleJson, sort_keys=True))"
   ]
  },
  {
   "cell_type": "code",
   "execution_count": 91,
   "metadata": {},
   "outputs": [],
   "source": [
    "with open(\"file.txt\", \"w\") as my_file:\n",
    "    my_file.write(str(json.loads(json.dumps(sampleJson, sort_keys=True))))"
   ]
  },
  {
   "cell_type": "code",
   "execution_count": 106,
   "metadata": {},
   "outputs": [
    {
     "name": "stdout",
     "output_type": "stream",
     "text": [
      "{'age': 29, 'id': 1, 'name': 'value2'}\n"
     ]
    }
   ],
   "source": [
    "with open(\"file.txt\", \"r\") as my_file:\n",
    "    content = my_file.read()\n",
    "print(json.loads(json.dumps(content)))"
   ]
  },
  {
   "cell_type": "code",
   "execution_count": 82,
   "metadata": {},
   "outputs": [],
   "source": [
    "Json = [\n",
    "    {\n",
    "        \"id\": 1,\n",
    "        \"name\": \"name1\",\n",
    "        \"color\": [\n",
    "            \"red\", \n",
    "            \"green\"\n",
    "        ]\n",
    "    },\n",
    "    \n",
    "    {\n",
    "        \"id\": 2,\n",
    "        \"name\": \"name2\",\n",
    "        \"color\": [\n",
    "            \"pink\", \n",
    "            \"yellow\"\n",
    "        ]\n",
    "    }\n",
    "]"
   ]
  },
  {
   "cell_type": "code",
   "execution_count": 101,
   "metadata": {},
   "outputs": [
    {
     "data": {
      "text/plain": [
       "[{'id': 1, 'name': 'name1', 'color': ['red', 'green']},\n",
       " {'id': 2, 'name': 'name2', 'color': ['pink', 'yellow']}]"
      ]
     },
     "execution_count": 101,
     "metadata": {},
     "output_type": "execute_result"
    }
   ],
   "source": [
    "json_file = json.loads(json.dumps(Json))\n",
    "json_file"
   ]
  },
  {
   "cell_type": "code",
   "execution_count": 99,
   "metadata": {},
   "outputs": [
    {
     "name": "stdout",
     "output_type": "stream",
     "text": [
      "name1 name2 "
     ]
    }
   ],
   "source": [
    "for line in json_file:\n",
    "    print(line[\"name\"], end= \" \")"
   ]
  },
  {
   "cell_type": "code",
   "execution_count": null,
   "metadata": {},
   "outputs": [],
   "source": []
  }
 ],
 "metadata": {
  "kernelspec": {
   "display_name": "Python 3",
   "language": "python",
   "name": "python3"
  },
  "language_info": {
   "codemirror_mode": {
    "name": "ipython",
    "version": 3
   },
   "file_extension": ".py",
   "mimetype": "text/x-python",
   "name": "python",
   "nbconvert_exporter": "python",
   "pygments_lexer": "ipython3",
   "version": "3.7.10"
  }
 },
 "nbformat": 4,
 "nbformat_minor": 4
}
