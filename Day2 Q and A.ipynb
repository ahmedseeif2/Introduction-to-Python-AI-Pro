{
 "cells": [
  {
   "cell_type": "markdown",
   "metadata": {},
   "source": [
    "1- given list check if it in ascending order ?\n",
    "\n",
    "2- replace [min max] inplace ?\n",
    "\n",
    "3- find last occurrence for queries ?\n",
    "\n",
    "4- find uniqe but not sorted lst ?\n",
    "\n",
    "5- find uniqe but sorted lst ?\n",
    "\n",
    "6- find_3_min ?\n",
    "\n",
    "7- find most frequent number ?\n",
    "\n",
    "8- compute number of appeared digits in list ?\n",
    "\n",
    "9- lst2 is is subseuence of lst1 ?\n",
    "\n",
    "10- get min element from spesific type ?\n",
    "\n",
    "11- encrypte given strig ?\n",
    "\n",
    "12- sort elements by data types ?\n",
    "\n",
    "13- find count pairs it's summition equal to 100 --> (pi + pj == 100) ,i<j ?"
   ]
  },
  {
   "cell_type": "markdown",
   "metadata": {},
   "source": [
    "## 1- given list check if it in ascending order ?"
   ]
  },
  {
   "cell_type": "code",
   "execution_count": 76,
   "metadata": {},
   "outputs": [],
   "source": [
    "#- given list check if it in ascending order\n",
    "def checklist(my_list):\n",
    "    return sorted(my_list) == my_list"
   ]
  },
  {
   "cell_type": "code",
   "execution_count": 77,
   "metadata": {},
   "outputs": [
    {
     "data": {
      "text/plain": [
       "True"
      ]
     },
     "execution_count": 77,
     "metadata": {},
     "output_type": "execute_result"
    }
   ],
   "source": [
    "test_list = [1, 4, 5, 8, 10]\n",
    "checklist(test_list)"
   ]
  },
  {
   "cell_type": "code",
   "execution_count": 78,
   "metadata": {},
   "outputs": [
    {
     "data": {
      "text/plain": [
       "False"
      ]
     },
     "execution_count": 78,
     "metadata": {},
     "output_type": "execute_result"
    }
   ],
   "source": [
    "test_list = [10,8,6,4]\n",
    "checklist(test_list)"
   ]
  },
  {
   "cell_type": "code",
   "execution_count": 79,
   "metadata": {
    "scrolled": true
   },
   "outputs": [
    {
     "data": {
      "text/plain": [
       "False"
      ]
     },
     "execution_count": 79,
     "metadata": {},
     "output_type": "execute_result"
    }
   ],
   "source": [
    "test_list = [4,-1,2]\n",
    "checklist(test_list)"
   ]
  },
  {
   "cell_type": "markdown",
   "metadata": {},
   "source": [
    "## 2- replace [min max] inplace ?"
   ]
  },
  {
   "cell_type": "code",
   "execution_count": null,
   "metadata": {},
   "outputs": [],
   "source": [
    "    maxx = values[values.index(max(values))]\n",
    "    minn = values[values.index(min(values))]\n",
    "    values[values.index(max(values))], values[values.index(min(values))] = minn , maxx"
   ]
  },
  {
   "cell_type": "code",
   "execution_count": 80,
   "metadata": {},
   "outputs": [],
   "source": [
    "#  replace [min max] inplace ?\n",
    "def changeminandmax(values):\n",
    "    maxx = values[values.index(max(values))]\n",
    "    minn = values[values.index(min(values))]\n",
    "    values[values.index(max(values))], values[values.index(min(values))] = minn , maxx"
   ]
  },
  {
   "cell_type": "code",
   "execution_count": 81,
   "metadata": {},
   "outputs": [
    {
     "data": {
      "text/plain": [
       "[10, 4, 5, 8, 1]"
      ]
     },
     "execution_count": 81,
     "metadata": {},
     "output_type": "execute_result"
    }
   ],
   "source": [
    "test_list = [1, 4, 5, 8, 10]\n",
    "changeminandmax(test_list)\n",
    "test_list"
   ]
  },
  {
   "cell_type": "code",
   "execution_count": 82,
   "metadata": {},
   "outputs": [
    {
     "data": {
      "text/plain": [
       "[10, 8, 6, 4]"
      ]
     },
     "execution_count": 82,
     "metadata": {},
     "output_type": "execute_result"
    }
   ],
   "source": [
    "test_list = [10,8,6,4]\n",
    "changeminandmax(test_list)\n",
    "test_list"
   ]
  },
  {
   "cell_type": "code",
   "execution_count": 83,
   "metadata": {},
   "outputs": [
    {
     "data": {
      "text/plain": [
       "[4, -1, 2]"
      ]
     },
     "execution_count": 83,
     "metadata": {},
     "output_type": "execute_result"
    }
   ],
   "source": [
    "test_list = [4,-1,2]\n",
    "changeminandmax(test_list)\n",
    "test_list"
   ]
  },
  {
   "cell_type": "markdown",
   "metadata": {},
   "source": [
    "## 3- find last occurrence for queries ?"
   ]
  },
  {
   "cell_type": "code",
   "execution_count": 109,
   "metadata": {},
   "outputs": [],
   "source": [
    "\n",
    "def findlastocur(mylist,tofind=0):\n",
    "    tofind = int(input(\"what are u looking for: \"))\n",
    "    inverselist = mylist[::-1]\n",
    "    index = inverselist.index(tofind) \n",
    "    index = len(mylist) - index - 1\n",
    "       \n",
    "    return index\n",
    "    "
   ]
  },
  {
   "cell_type": "code",
   "execution_count": 110,
   "metadata": {},
   "outputs": [
    {
     "name": "stdout",
     "output_type": "stream",
     "text": [
      "what are u looking for: 8\n"
     ]
    },
    {
     "data": {
      "text/plain": [
       "6"
      ]
     },
     "execution_count": 110,
     "metadata": {},
     "output_type": "execute_result"
    }
   ],
   "source": [
    "test_list = [1, 4, 5, 8, 8, 8, 8, 10]\n",
    "findlastocur(test_list)"
   ]
  },
  {
   "cell_type": "code",
   "execution_count": 287,
   "metadata": {},
   "outputs": [
    {
     "name": "stdout",
     "output_type": "stream",
     "text": [
      "what are u looking for: 10\n"
     ]
    },
    {
     "data": {
      "text/plain": [
       "4"
      ]
     },
     "execution_count": 287,
     "metadata": {},
     "output_type": "execute_result"
    }
   ],
   "source": [
    "test_list = [1, 4, 5, 8, 10]\n",
    "findlastocur(test_list)"
   ]
  },
  {
   "cell_type": "code",
   "execution_count": 82,
   "metadata": {},
   "outputs": [
    {
     "data": {
      "text/plain": [
       "[10, 8, 6, 4]"
      ]
     },
     "execution_count": 82,
     "metadata": {},
     "output_type": "execute_result"
    }
   ],
   "source": [
    "test_list = [10,8,6,4]\n",
    "findlastocur(test_list)"
   ]
  },
  {
   "cell_type": "code",
   "execution_count": 83,
   "metadata": {},
   "outputs": [
    {
     "data": {
      "text/plain": [
       "[4, -1, 2]"
      ]
     },
     "execution_count": 83,
     "metadata": {},
     "output_type": "execute_result"
    }
   ],
   "source": [
    "test_list = [4,-1,2]\n",
    "findlastocur(test_list)"
   ]
  },
  {
   "cell_type": "markdown",
   "metadata": {},
   "source": [
    "## 4- find uniqe but not sorted lst ?"
   ]
  },
  {
   "cell_type": "code",
   "execution_count": 113,
   "metadata": {},
   "outputs": [],
   "source": [
    "def unqnotsorted(mylist):\n",
    "    finallist=[]\n",
    "    for i in mylist:\n",
    "        if i not in finallist:\n",
    "            finallist.append(i)\n",
    "    return finallist"
   ]
  },
  {
   "cell_type": "code",
   "execution_count": 114,
   "metadata": {},
   "outputs": [
    {
     "data": {
      "text/plain": [
       "[1, 4, 5, 8, 10]"
      ]
     },
     "execution_count": 114,
     "metadata": {},
     "output_type": "execute_result"
    }
   ],
   "source": [
    "test_list = [1, 4, 5, 8,8,1, 10]\n",
    "unqnotsorted(test_list)"
   ]
  },
  {
   "cell_type": "code",
   "execution_count": 115,
   "metadata": {},
   "outputs": [
    {
     "data": {
      "text/plain": [
       "[10, 8, 6, 4]"
      ]
     },
     "execution_count": 115,
     "metadata": {},
     "output_type": "execute_result"
    }
   ],
   "source": [
    "test_list = [10,8,6,4]\n",
    "unqnotsorted(test_list)"
   ]
  },
  {
   "cell_type": "code",
   "execution_count": 116,
   "metadata": {},
   "outputs": [
    {
     "data": {
      "text/plain": [
       "[4, -1, 2]"
      ]
     },
     "execution_count": 116,
     "metadata": {},
     "output_type": "execute_result"
    }
   ],
   "source": [
    "test_list = [4,-1,2]\n",
    "unqnotsorted(test_list)"
   ]
  },
  {
   "cell_type": "markdown",
   "metadata": {},
   "source": [
    "## 5- find uniqe but sorted lst ?"
   ]
  },
  {
   "cell_type": "code",
   "execution_count": 125,
   "metadata": {},
   "outputs": [],
   "source": [
    "def unqsorted(mylist):\n",
    "    finallist=[]\n",
    "    for i in mylist:\n",
    "        if i not in finallist:\n",
    "            finallist.append(i)\n",
    "            \n",
    "    return sorted(finallist)"
   ]
  },
  {
   "cell_type": "code",
   "execution_count": 126,
   "metadata": {},
   "outputs": [
    {
     "data": {
      "text/plain": [
       "[1, 4, 5, 8, 10]"
      ]
     },
     "execution_count": 126,
     "metadata": {},
     "output_type": "execute_result"
    }
   ],
   "source": [
    "test_list = [1, 4, 5, 8,8,1, 10]\n",
    "unqsorted(test_list)"
   ]
  },
  {
   "cell_type": "code",
   "execution_count": 127,
   "metadata": {},
   "outputs": [
    {
     "data": {
      "text/plain": [
       "[4, 6, 8, 10]"
      ]
     },
     "execution_count": 127,
     "metadata": {},
     "output_type": "execute_result"
    }
   ],
   "source": [
    "test_list = [10,8,6,4]\n",
    "unqsorted(test_list)"
   ]
  },
  {
   "cell_type": "code",
   "execution_count": 128,
   "metadata": {},
   "outputs": [
    {
     "data": {
      "text/plain": [
       "[-1, 2, 3, 4, 5, 10]"
      ]
     },
     "execution_count": 128,
     "metadata": {},
     "output_type": "execute_result"
    }
   ],
   "source": [
    "test_list = [4,-1,2 , 10, 5, 3]\n",
    "unqsorted(test_list)"
   ]
  },
  {
   "cell_type": "markdown",
   "metadata": {},
   "source": [
    "## 6- find_3_min ?"
   ]
  },
  {
   "cell_type": "code",
   "execution_count": 247,
   "metadata": {},
   "outputs": [],
   "source": [
    "def find3min(mylist):\n",
    "    tempset = mylist\n",
    "    minnums = []\n",
    "    for i in range(3):\n",
    "        minvalue = min(tempset)\n",
    "        minnums.append(minvalue)\n",
    "        while (tempset.count(minvalue)):\n",
    "            mylist.remove(minvalue)\n",
    "    return minnums"
   ]
  },
  {
   "cell_type": "code",
   "execution_count": 238,
   "metadata": {},
   "outputs": [],
   "source": [
    "def find3min(mylist):\n",
    "    l = sorted(set(mylist))\n",
    "    return l[:3]"
   ]
  },
  {
   "cell_type": "code",
   "execution_count": 248,
   "metadata": {},
   "outputs": [
    {
     "data": {
      "text/plain": [
       "[1, 4, 5]"
      ]
     },
     "execution_count": 248,
     "metadata": {},
     "output_type": "execute_result"
    }
   ],
   "source": [
    "test_list = [1,1, 4, 5, 8 , 8,1, 10]\n",
    "find3min(test_list)"
   ]
  },
  {
   "cell_type": "code",
   "execution_count": 243,
   "metadata": {},
   "outputs": [
    {
     "data": {
      "text/plain": [
       "[4, 6, 8]"
      ]
     },
     "execution_count": 243,
     "metadata": {},
     "output_type": "execute_result"
    }
   ],
   "source": [
    "test_list = [10,8,6,4]\n",
    "find3min(test_list)"
   ]
  },
  {
   "cell_type": "code",
   "execution_count": 244,
   "metadata": {},
   "outputs": [
    {
     "data": {
      "text/plain": [
       "[-1, 2, 3]"
      ]
     },
     "execution_count": 244,
     "metadata": {},
     "output_type": "execute_result"
    }
   ],
   "source": [
    "test_list = [4,-1,2 , 10, 5, 3]\n",
    "find3min(test_list)"
   ]
  },
  {
   "cell_type": "markdown",
   "metadata": {},
   "source": [
    "## 7- find most frequent number ?\n",
    "[link](https://stackoverflow.com/questions/613183/how-do-i-sort-a-dictionary-by-value)"
   ]
  },
  {
   "cell_type": "code",
   "execution_count": 209,
   "metadata": {},
   "outputs": [],
   "source": [
    "def mostFrequent(test_list):\n",
    "    occurdic={}\n",
    "    for i in set(test_list):\n",
    "        occurdic[i] = test_list.count(i)\n",
    "    freq_dic = dict(sorted(occurdic.items(), key=lambda item: item[1]))\n",
    "    print(f\"the most freq item is {freq_dic.popitem()[0]} and it occured {freq_dic.popitem()[1]} times\")"
   ]
  },
  {
   "cell_type": "code",
   "execution_count": 210,
   "metadata": {},
   "outputs": [
    {
     "name": "stdout",
     "output_type": "stream",
     "text": [
      "the most freq item is 8 and it occured 2 times\n"
     ]
    }
   ],
   "source": [
    "test_list = [1, 4, 5, 8 , 8 ,1, 10]\n",
    "mostFrequent(test_list)\n"
   ]
  },
  {
   "cell_type": "markdown",
   "metadata": {},
   "source": [
    "## 8- compute number of appeared digits in list ?\n"
   ]
  },
  {
   "cell_type": "code",
   "execution_count": 228,
   "metadata": {},
   "outputs": [],
   "source": [
    "def number_of_appeared(mylist):\n",
    "    freq = [0] * 10  \n",
    "    for i in mylist:\n",
    "        i = abs(i)\n",
    "        \n",
    "        if i == 0:\n",
    "            freq[0] += 1    # special case\n",
    "        else:\n",
    "            while i > 0:\n",
    "                digit = i % 10\n",
    "                i //= 10\n",
    "                freq[digit] += 1\n",
    "\n",
    "\n",
    "    for idx in range(10):\n",
    "        print(idx, freq[idx])"
   ]
  },
  {
   "cell_type": "code",
   "execution_count": 229,
   "metadata": {},
   "outputs": [
    {
     "name": "stdout",
     "output_type": "stream",
     "text": [
      "0 1\n",
      "1 3\n",
      "2 0\n",
      "3 0\n",
      "4 1\n",
      "5 1\n",
      "6 0\n",
      "7 0\n",
      "8 2\n",
      "9 0\n"
     ]
    }
   ],
   "source": [
    "test_list = [1, 4, 5, 8 , 8 ,1, 10]\n",
    "number_of_appeared(test_list)"
   ]
  },
  {
   "cell_type": "code",
   "execution_count": null,
   "metadata": {},
   "outputs": [],
   "source": [
    "78 0 0 0 -307"
   ]
  },
  {
   "cell_type": "code",
   "execution_count": 288,
   "metadata": {},
   "outputs": [
    {
     "data": {
      "text/plain": [
       "[0, 0, 0, 0, 0, 0, 0, 0, 0, 0]"
      ]
     },
     "execution_count": 288,
     "metadata": {},
     "output_type": "execute_result"
    }
   ],
   "source": [
    "freq = [0] * 10  \n",
    "freq"
   ]
  },
  {
   "cell_type": "code",
   "execution_count": 289,
   "metadata": {},
   "outputs": [
    {
     "data": {
      "text/plain": [
       "7"
      ]
     },
     "execution_count": 289,
     "metadata": {},
     "output_type": "execute_result"
    }
   ],
   "source": [
    "307 % 10"
   ]
  },
  {
   "cell_type": "code",
   "execution_count": 290,
   "metadata": {},
   "outputs": [
    {
     "data": {
      "text/plain": [
       "30"
      ]
     },
     "execution_count": 290,
     "metadata": {},
     "output_type": "execute_result"
    }
   ],
   "source": [
    "307 // 10"
   ]
  },
  {
   "cell_type": "code",
   "execution_count": null,
   "metadata": {},
   "outputs": [],
   "source": [
    "freq = [0] * 10     # to compute fromquency from 0 to 9\n",
    "for value in lst:\n",
    "    value = abs(value)  # get rid of the sign\n",
    "\n",
    "    if value == 0:\n",
    "        freq[0] += 1    # special case\n",
    "    else:\n",
    "        while value > 0:\n",
    "            digit = value % 10\n",
    "            value // =  10\n",
    "            freq[digit] += 1\n",
    "\n",
    "\n",
    "for idx in range(10):\n",
    "    print(idx, freq[idx])\n",
    "\n",
    "\"\"\"\n",
    "test case for you\n",
    "78 0 0 0 -307\n",
    "\n",
    "Output\n",
    "0 4\n",
    "1 0\n",
    "2 0\n",
    "3 1\n",
    "4 0\n",
    "5 0\n",
    "6 0\n",
    "7 2\n",
    "8 1\n",
    "9 0\n",
    "\"\"\""
   ]
  },
  {
   "cell_type": "markdown",
   "metadata": {},
   "source": [
    "## 9- lst2 is is subseuence of lst1 ?\n"
   ]
  },
  {
   "cell_type": "code",
   "execution_count": 255,
   "metadata": {},
   "outputs": [],
   "source": [
    "def subseuence(list1 , list2):\n",
    "    check = []\n",
    "    for i in list2:\n",
    "        check.append((i in list1))\n",
    "    return all(check)"
   ]
  },
  {
   "cell_type": "code",
   "execution_count": 257,
   "metadata": {},
   "outputs": [
    {
     "data": {
      "text/plain": [
       "True"
      ]
     },
     "execution_count": 257,
     "metadata": {},
     "output_type": "execute_result"
    }
   ],
   "source": [
    "list2 = [1,2,3]\n",
    "list1 = [1,2,3,5]\n",
    "subseuence(list1 , list2)"
   ]
  },
  {
   "cell_type": "code",
   "execution_count": 256,
   "metadata": {},
   "outputs": [
    {
     "data": {
      "text/plain": [
       "False"
      ]
     },
     "execution_count": 256,
     "metadata": {},
     "output_type": "execute_result"
    }
   ],
   "source": [
    "list2 = [1,2,3]\n",
    "list1 = [1,2,5]\n",
    "subseuence(list1 , list2)"
   ]
  },
  {
   "cell_type": "markdown",
   "metadata": {},
   "source": [
    "## 10- get min element from spesific type ?\n"
   ]
  },
  {
   "cell_type": "code",
   "execution_count": 3,
   "metadata": {},
   "outputs": [
    {
     "name": "stdout",
     "output_type": "stream",
     "text": [
      "5\n",
      "-2.5\n",
      "Ziad\n"
     ]
    }
   ],
   "source": [
    "\n",
    "lst = [10, -2.5, 20, 5, 'mostafa', 5.2, 'Ziad']\n",
    "\n",
    "print(min ([item for item in lst if type(item) is int]))\n",
    "print(min ([item for item in lst if type(item) is float]))\n",
    "print(min ([item for item in lst if type(item) is str]))"
   ]
  },
  {
   "cell_type": "markdown",
   "metadata": {},
   "source": [
    "## 11- encrypte given strig ?\n"
   ]
  },
  {
   "cell_type": "code",
   "execution_count": 263,
   "metadata": {},
   "outputs": [
    {
     "name": "stdout",
     "output_type": "stream",
     "text": [
      "123\n",
      "@#$\n"
     ]
    }
   ],
   "source": [
    "# Create a dict with requested mapping\n",
    "from_str = 'abcdefghijklmnopqrstuvwxyz0123456789'\n",
    "to_str = 'YZIMNESTODUAPWXHQFBRJKCGVL!@#$%^&*()'\n",
    "# create the dict with comprehension\n",
    "dict = {from_str[idx]:to_str[idx] for idx in range(len(from_str))}\n",
    "\n",
    "string = input()\n",
    "res = ''\n",
    "for char in string:\n",
    "    if char in dict:\n",
    "        char = dict[char]\n",
    "    res += char\n",
    "print(res)"
   ]
  },
  {
   "cell_type": "markdown",
   "metadata": {},
   "source": [
    "## 12- sort elements by data types ?\n"
   ]
  },
  {
   "cell_type": "code",
   "execution_count": 4,
   "metadata": {},
   "outputs": [],
   "source": [
    "def sortbydatatype(mylist):\n",
    "    #split \n",
    "    res_str = sorted([ele for ele in mylist if isinstance(ele, str)])\n",
    "    res_int = sorted([ele for ele in mylist if isinstance(ele, int)])\n",
    "    res_float = sorted([ele for ele in mylist if isinstance(ele, float)])\n",
    "    \n",
    "    return res_float , res_int , res_str"
   ]
  },
  {
   "cell_type": "code",
   "execution_count": 5,
   "metadata": {},
   "outputs": [
    {
     "data": {
      "text/plain": [
       "([1.1, 2.5, 4.5], [-4, 2, 5, 7, 9, 10], ['aly', 'most', 'ziad'])"
      ]
     },
     "execution_count": 5,
     "metadata": {},
     "output_type": "execute_result"
    }
   ],
   "source": [
    "lst = [10, 'most', 2.5, 7, 'aly', 9, 4.5, 2, 'ziad', -4, 1.1, [1, 5], 5, [0, 7, 8]]\n",
    "sortbydatatype(lst)"
   ]
  },
  {
   "cell_type": "code",
   "execution_count": 6,
   "metadata": {},
   "outputs": [
    {
     "data": {
      "text/plain": [
       "True"
      ]
     },
     "execution_count": 6,
     "metadata": {},
     "output_type": "execute_result"
    }
   ],
   "source": [
    "isinstance('ziad', str)"
   ]
  },
  {
   "cell_type": "markdown",
   "metadata": {},
   "source": [
    "## 13- find count pairs it's summition equal to 100 --> (pi + pj == 100) ,i<j ?"
   ]
  },
  {
   "cell_type": "code",
   "execution_count": 2,
   "metadata": {},
   "outputs": [
    {
     "name": "stdout",
     "output_type": "stream",
     "text": [
      "20 30 40 80 60 70\n",
      "3\n",
      "\n",
      "0\n"
     ]
    }
   ],
   "source": [
    "lst = list(map(int, input().split()))\n",
    "ans = 0\n",
    "for idx in range(len(lst)-1):\n",
    "    if 100 - lst[idx] in lst[idx+1 : ]:\n",
    "        ans+=1\n",
    "print(ans)   \n",
    "\n",
    "lst = list(map(int, input().split()))\n",
    "lst.sort()\n",
    "l = 0\n",
    "r = len(lst) - 1\n",
    "ans = 0\n",
    "while l < r :\n",
    "    if lst[l] + lst[r] == 100:\n",
    "        ans+=1\n",
    "        l+=1\n",
    "        r-=1\n",
    "\n",
    "    elif  lst[l] + lst[r] > 100:\n",
    "        r-=1\n",
    "    else :\n",
    "        l+=1 \n",
    "\n",
    "print(ans)"
   ]
  },
  {
   "cell_type": "code",
   "execution_count": null,
   "metadata": {},
   "outputs": [],
   "source": []
  }
 ],
 "metadata": {
  "kernelspec": {
   "display_name": "Python 3",
   "language": "python",
   "name": "python3"
  },
  "language_info": {
   "codemirror_mode": {
    "name": "ipython",
    "version": 3
   },
   "file_extension": ".py",
   "mimetype": "text/x-python",
   "name": "python",
   "nbconvert_exporter": "python",
   "pygments_lexer": "ipython3",
   "version": "3.8.3"
  }
 },
 "nbformat": 4,
 "nbformat_minor": 4
}
