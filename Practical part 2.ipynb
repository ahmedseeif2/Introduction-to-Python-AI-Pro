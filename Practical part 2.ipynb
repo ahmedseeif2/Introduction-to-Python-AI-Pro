{
 "cells": [
  {
   "cell_type": "markdown",
   "metadata": {},
   "source": [
    "### PROBLEM 1 \n",
    "Your labs supervisor is interested in creating a system for calculating weekly pay based on each \n",
    "employee’s classification level and number of hours worked. Undergraduates and graduate \n",
    "students earn 15 per hour. Postdoctoral researchers earn 25 per hour. Staff earn 35 per hour. \n",
    "Undergraduates and graduate students cannot be paid for more than 20 hours in one week. \n",
    "Thus, if they have worked more than 20 hours in a week, then they will only be paid for the ﬁrst \n",
    "20 hours. Postdoctoral researchers and stff have no limit on the number of hours that they can \n",
    "be paid for.\n",
    "Create the function calculatePay that has two parameters: level is a string representing the \n",
    "classiﬁcation level of each lab member (ugrad is undergraduate, grad is graduate student, post \n",
    "is postdoctoral researcher, and staff is staff member); and hours is a float representing the \n",
    "number of hours worked. The calculatePay function calculates and returns the total pay, based \n",
    "on the information provided above."
   ]
  },
  {
   "cell_type": "code",
   "execution_count": 23,
   "metadata": {},
   "outputs": [],
   "source": [
    "def calculatePay(level, hours):\n",
    "    if (level == 'ugrad' or level == 'grad') and hours >20:\n",
    "        return 20*15\n",
    "    elif (level == 'ugrad' or level == 'grad') and hours <20:\n",
    "        return hours*15\n",
    "    elif level == \"post\":\n",
    "        return hours*25\n",
    "    elif level == \"staff\":\n",
    "        return hours*35"
   ]
  },
  {
   "cell_type": "code",
   "execution_count": 24,
   "metadata": {},
   "outputs": [
    {
     "data": {
      "text/plain": [
       "300"
      ]
     },
     "execution_count": 24,
     "metadata": {},
     "output_type": "execute_result"
    }
   ],
   "source": [
    "calculatePay('ugrad', 24.0) "
   ]
  },
  {
   "cell_type": "code",
   "execution_count": 25,
   "metadata": {},
   "outputs": [
    {
     "data": {
      "text/plain": [
       "285"
      ]
     },
     "execution_count": 25,
     "metadata": {},
     "output_type": "execute_result"
    }
   ],
   "source": [
    "calculatePay('ugrad', 19)"
   ]
  },
  {
   "cell_type": "code",
   "execution_count": 26,
   "metadata": {},
   "outputs": [
    {
     "data": {
      "text/plain": [
       "1242.5"
      ]
     },
     "execution_count": 26,
     "metadata": {},
     "output_type": "execute_result"
    }
   ],
   "source": [
    "calculatePay('staff', 35.5)"
   ]
  },
  {
   "cell_type": "code",
   "execution_count": 27,
   "metadata": {},
   "outputs": [
    {
     "data": {
      "text/plain": [
       "262.5"
      ]
     },
     "execution_count": 27,
     "metadata": {},
     "output_type": "execute_result"
    }
   ],
   "source": [
    "calculatePay('post', 10.5) "
   ]
  },
  {
   "cell_type": "markdown",
   "metadata": {},
   "source": [
    "#### part2\n",
    "Above is the formula to calculate the distance between two points: (x1, y1) and (x2, y2)). Implement the\n",
    "function distance that takes the x- and y-coordinate for two points and returns the distance between them.\n",
    "Assume that the math library has already been imported for you."
   ]
  },
  {
   "cell_type": "code",
   "execution_count": 32,
   "metadata": {},
   "outputs": [],
   "source": [
    "def distance(x1, y1, x2, y2):\n",
    "    \n",
    "    import math \n",
    "    \n",
    "    return math.sqrt( ((x1-x2)**2)+((y1-x2)**2) )"
   ]
  },
  {
   "cell_type": "code",
   "execution_count": 33,
   "metadata": {},
   "outputs": [
    {
     "data": {
      "text/plain": [
       "22.360679774997898"
      ]
     },
     "execution_count": 33,
     "metadata": {},
     "output_type": "execute_result"
    }
   ],
   "source": [
    "distance(10,20,30,40)"
   ]
  },
  {
   "cell_type": "markdown",
   "metadata": {},
   "source": [
    "### PROBLEM 2\n",
    "#### part A\n",
    "Iteration and recursion. In this question we approach a simple problem, that of \n",
    "making a reversed copy of a list (without modifying the original list), in two \n",
    "ways. \n",
    "\n",
    "(a) Implement the following function according to spec, using recursion. Your\n",
    "function must call itself.\n",
    "\n",
    "(b) Implement the following function according to spec, using iteration.\n",
    "Your function must be based on a loop. Hint: There are solutions based on\n",
    "counting forwards, counting backwards, and looping over the sequence\n",
    "directly; use whichever you find easiest.\n",
    "\n"
   ]
  },
  {
   "cell_type": "code",
   "execution_count": 101,
   "metadata": {},
   "outputs": [],
   "source": [
    "def reverse(x):\n",
    "    if x == []: \n",
    "        return x\n",
    "    return x[-1:] + reverse(x[:-1]) \n",
    "    \n"
   ]
  },
  {
   "cell_type": "code",
   "execution_count": 102,
   "metadata": {},
   "outputs": [
    {
     "data": {
      "text/plain": [
       "[5, 4, 3, 2, 1]"
      ]
     },
     "execution_count": 102,
     "metadata": {},
     "output_type": "execute_result"
    }
   ],
   "source": [
    "reverse([1,2,3,4,5])"
   ]
  },
  {
   "cell_type": "code",
   "execution_count": 103,
   "metadata": {},
   "outputs": [
    {
     "data": {
      "text/plain": [
       "[6, 5, 4, 3, 2, 1]"
      ]
     },
     "execution_count": 103,
     "metadata": {},
     "output_type": "execute_result"
    }
   ],
   "source": [
    "reverse([1,2,3,4,5,6])"
   ]
  },
  {
   "cell_type": "code",
   "execution_count": 98,
   "metadata": {},
   "outputs": [],
   "source": [
    "def reverse(x):\n",
    "    newx = []\n",
    "    for i in (x[::-1]):\n",
    "        newx.append(i)\n",
    "    return newx\n"
   ]
  },
  {
   "cell_type": "code",
   "execution_count": 99,
   "metadata": {},
   "outputs": [
    {
     "data": {
      "text/plain": [
       "[5, 4, 3, 2, 1]"
      ]
     },
     "execution_count": 99,
     "metadata": {},
     "output_type": "execute_result"
    }
   ],
   "source": [
    "reverse([1,2,3,4,5])"
   ]
  },
  {
   "cell_type": "code",
   "execution_count": 100,
   "metadata": {},
   "outputs": [
    {
     "data": {
      "text/plain": [
       "[6, 5, 4, 3, 2, 1]"
      ]
     },
     "execution_count": 100,
     "metadata": {},
     "output_type": "execute_result"
    }
   ],
   "source": [
    "reverse([1,2,3,4,5,6])"
   ]
  },
  {
   "cell_type": "markdown",
   "metadata": {},
   "source": [
    "#### Part B\n",
    "Write a list comprehension that creates a list of all the multiples of \n",
    "5 greater than 0 and less than 4096, "
   ]
  },
  {
   "cell_type": "code",
   "execution_count": 64,
   "metadata": {},
   "outputs": [],
   "source": [
    "multiples_of5 = [x for x in range(0,4096) if x%5 ==0]"
   ]
  },
  {
   "cell_type": "markdown",
   "metadata": {},
   "source": [
    "### PROBLEM 3 :\n",
    "You’re hired by Apple to manage the purchases of Beatles tracks. A file of purchases \n",
    "is kept with each title stored with the email addresses of the people who have \n",
    "purchased that track. Three tracks are shown below. The title is the first string on \n",
    "each line, separated from email addresses by a comma. Each email address for a given \n",
    "track is separated by a comma as well\n",
    "\n",
    "\n",
    "Drive My Car,ola@duke.edu,pjl@msn.com\n",
    "Norwegian Wood,pjl@msn.com,jf@foo.edu\n",
    "Nowhere Man,pkp@nbc.com,pjl@msn.com,joa@gmail.com\n",
    "\n",
    "Write a function bbFan that returns the email address of the biggest Beatles fan – the email \n",
    "address of the person who purchased the most tracks. The function is passed the name of the \n",
    "file storing the data.\n",
    "\n"
   ]
  },
  {
   "cell_type": "code",
   "execution_count": 96,
   "metadata": {},
   "outputs": [],
   "source": [
    "def bbFan(filename):\n",
    "    import csv\n",
    "    file = open('test.csv')\n",
    "    All_users = []\n",
    "    csv_reader = csv.reader(file, delimiter=',')\n",
    "    for row in csv_reader:\n",
    "        All_users = All_users + row\n",
    "\n",
    "    my_dict = {i:All_users.count(i) for i in All_users}\n",
    "    print( f'the biggest Beatles fan is: {max(my_dict.items(), key=operator.itemgetter(1))[0]}')\n",
    "    file.close()"
   ]
  },
  {
   "cell_type": "code",
   "execution_count": 97,
   "metadata": {},
   "outputs": [
    {
     "name": "stdout",
     "output_type": "stream",
     "text": [
      "the biggest Beatles fan is: pjl@msn.com\n"
     ]
    }
   ],
   "source": [
    "bbFan('test.csv')"
   ]
  },
  {
   "cell_type": "markdown",
   "metadata": {},
   "source": [
    "### PROBLEM 4 : Classes and Subclasses\n",
    "Write a class named Employee that holds the following data about an employee in attributes: name, ID \n",
    "number, department, and job title.\n",
    "\n",
    "\n",
    "Once you have written the class, write a program that creates three Employee objects to hold the following \n",
    "\n",
    "\n",
    "data:\n",
    "\n",
    "\n",
    "Name: Ayman Nabil, Ahmed Saeed,  Esraa Mohamed\n",
    "\n",
    "\n",
    "ID Number: 47899,  39119, 81774\n",
    "\n",
    "Department: Accounting, IT,  Manufacturing\n",
    "\n",
    "\n",
    "Job Title: Vice President, Programmer, Engineer\n",
    "\n",
    "\n",
    "The program should store this data in the three objects, then display the data for each employee on the \n",
    "screen. Finally write the data to a csv file."
   ]
  },
  {
   "cell_type": "code",
   "execution_count": 24,
   "metadata": {},
   "outputs": [],
   "source": [
    "class Employee:\n",
    "    def __init__(self, name = None, ID= None, department= None, job_title= None):\n",
    "        if name == None or ID== None or department== None or job_title== None:\n",
    "            self.name = input(\"enter the name: \") \n",
    "            self.ID = int(input(\"enter the id: \") )\n",
    "            self.department = input(\"enter the department: \") \n",
    "            self.job_title = input(\"enter the job title: \")\n",
    "        else:\n",
    "            self.name = name\n",
    "            self.ID = ID\n",
    "            self.department =department\n",
    "            self.job_title = job_title\n",
    "            \n",
    "    def __str__(self):\n",
    "        return f'name: {self.name} \\nID: {self.ID} \\ndepartment: {self.department} \\njob_title: {self.job_title} \\n'\n",
    "    "
   ]
  },
  {
   "cell_type": "code",
   "execution_count": 38,
   "metadata": {},
   "outputs": [],
   "source": [
    "dic = {'Name': ['Ayman Nabil', 'Ahmed Saeed', 'Esraa Mohamed'],\n",
    "\n",
    "'ID': [47899, 39119, 81774],\n",
    "\n",
    "'Department':[ 'Accounting', 'IT', 'Manufacturing'],\n",
    "\n",
    "'Job Title': ['Vice President', 'Programmer', 'Engineer']}"
   ]
  },
  {
   "cell_type": "code",
   "execution_count": 39,
   "metadata": {},
   "outputs": [],
   "source": [
    "Employee_ayman_nabil = Employee('Ayman Nabil',47899,'Accounting','Vice President')"
   ]
  },
  {
   "cell_type": "code",
   "execution_count": 40,
   "metadata": {},
   "outputs": [
    {
     "name": "stdout",
     "output_type": "stream",
     "text": [
      "name: Ayman Nabil \n",
      "ID: 47899 \n",
      "department: Accounting \n",
      "job_title: Vice President \n",
      "\n"
     ]
    }
   ],
   "source": [
    "print(Employee_ayman_nabil)"
   ]
  },
  {
   "cell_type": "code",
   "execution_count": 41,
   "metadata": {},
   "outputs": [],
   "source": [
    "Employee_Ahmed_Saeed = Employee('Ahmed Saeed',39119,'IT','Programmer')"
   ]
  },
  {
   "cell_type": "code",
   "execution_count": 42,
   "metadata": {},
   "outputs": [
    {
     "name": "stdout",
     "output_type": "stream",
     "text": [
      "name: Ahmed Saeed \n",
      "ID: 39119 \n",
      "department: IT \n",
      "job_title: Programmer \n",
      "\n"
     ]
    }
   ],
   "source": [
    "print(Employee_Ahmed_Saeed)"
   ]
  },
  {
   "cell_type": "code",
   "execution_count": 34,
   "metadata": {},
   "outputs": [
    {
     "name": "stdout",
     "output_type": "stream",
     "text": [
      "enter the name: Esraa Mohamed\n",
      "enter the id: 81774\n",
      "enter the department: Manufacturing\n",
      "enter the job title: Engineer\n"
     ]
    }
   ],
   "source": [
    "Employee_Esraa_Mohamed = Employee()"
   ]
  },
  {
   "cell_type": "code",
   "execution_count": 35,
   "metadata": {},
   "outputs": [
    {
     "name": "stdout",
     "output_type": "stream",
     "text": [
      "name: Esraa Mohamed \n",
      "ID: 81774 \n",
      "department: Manufacturing \n",
      "job_title: Engineer \n",
      "\n"
     ]
    }
   ],
   "source": [
    "print(Employee_Esraa_Mohamed)"
   ]
  },
  {
   "cell_type": "code",
   "execution_count": null,
   "metadata": {},
   "outputs": [],
   "source": []
  }
 ],
 "metadata": {
  "kernelspec": {
   "display_name": "Python 3",
   "language": "python",
   "name": "python3"
  },
  "language_info": {
   "codemirror_mode": {
    "name": "ipython",
    "version": 3
   },
   "file_extension": ".py",
   "mimetype": "text/x-python",
   "name": "python",
   "nbconvert_exporter": "python",
   "pygments_lexer": "ipython3",
   "version": "3.8.3"
  }
 },
 "nbformat": 4,
 "nbformat_minor": 4
}
