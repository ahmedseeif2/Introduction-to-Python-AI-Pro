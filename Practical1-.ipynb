{
 "cells": [
  {
   "cell_type": "code",
   "execution_count": 10,
   "metadata": {},
   "outputs": [
    {
     "name": "stdout",
     "output_type": "stream",
     "text": [
      "[[Hello]]\n"
     ]
    }
   ],
   "source": [
    "lst = \"[[]]\"\n",
    "inp = \"Hello\"\n",
    "l = len(lst) // 2\n",
    "\n",
    "print(lst[:l] + inp + lst[l:])"
   ]
  },
  {
   "cell_type": "code",
   "execution_count": 16,
   "metadata": {},
   "outputs": [
    {
     "data": {
      "text/plain": [
       "5"
      ]
     },
     "execution_count": 16,
     "metadata": {},
     "output_type": "execute_result"
    }
   ],
   "source": [
    "txt = \"#####hhh\"\n",
    "\n",
    "len(list(filter(lambda x: x == \"#\", txt)))"
   ]
  },
  {
   "cell_type": "code",
   "execution_count": 23,
   "metadata": {},
   "outputs": [
    {
     "name": "stdout",
     "output_type": "stream",
     "text": [
      "0\n"
     ]
    }
   ],
   "source": [
    "tuples= [(1,2), (1,3), (4,2), (5,6), (10,0)]\n",
    "\n",
    "mini = 1000\n",
    "for element in tuples:\n",
    "    if mini > element[1]:\n",
    "        mini = element[1]\n",
    "        \n",
    "print(mini)"
   ]
  },
  {
   "cell_type": "code",
   "execution_count": 28,
   "metadata": {},
   "outputs": [
    {
     "data": {
      "text/plain": [
       "{'ali': 19.25, 'ahmed': 19.25, 'noha': 19.25, 'ramy': 19.25}"
      ]
     },
     "execution_count": 28,
     "metadata": {},
     "output_type": "execute_result"
    }
   ],
   "source": [
    "test_dict= { \"ali\": 29, \"ahmed\": 13, \"noha\": 20, \"ramy\": 15}\n",
    "\n",
    "avg = 0\n",
    "\n",
    "for key, value in test_dict.items():\n",
    "    avg += value\n",
    "    \n",
    "avg /= len(test_dict)\n",
    "\n",
    "for key, value in test_dict.items():\n",
    "    test_dict[key] = avg\n",
    "    \n",
    "test_dict"
   ]
  },
  {
   "cell_type": "code",
   "execution_count": 30,
   "metadata": {},
   "outputs": [
    {
     "data": {
      "text/plain": [
       "[(2, 0), (9, 3), (0, 5)]"
      ]
     },
     "execution_count": 30,
     "metadata": {},
     "output_type": "execute_result"
    }
   ],
   "source": [
    "lst = [(0, 5), (2, 0), (9, 3)]\n",
    "\n",
    "lst.sort(key=lambda x: x[1])\n",
    "lst"
   ]
  },
  {
   "cell_type": "code",
   "execution_count": 5,
   "metadata": {},
   "outputs": [
    {
     "name": "stdout",
     "output_type": "stream",
     "text": [
      "Requirement already satisfied: numpy in c:\\users\\jabal\\anaconda3\\lib\\site-packages (1.19.2)\n"
     ]
    }
   ],
   "source": [
    "!pip install numpy\n"
   ]
  },
  {
   "cell_type": "code",
   "execution_count": 6,
   "metadata": {},
   "outputs": [],
   "source": [
    "\n",
    "array1 = [[5, 3], [1, 2]]\n",
    "array2 = [[2, 6], [4, 0]]\n",
    "\n",
    "result = [[0, 0], [0, 0]]\n",
    "\n",
    "#print(np.multiply(array1, array2))"
   ]
  },
  {
   "cell_type": "code",
   "execution_count": 8,
   "metadata": {},
   "outputs": [],
   "source": [
    "for i in range(len(array1)):\n",
    "    for j in range(len(array1[0])):\n",
    "        result[i][j] += array1[i][j] * array2[i][j]"
   ]
  },
  {
   "cell_type": "code",
   "execution_count": 9,
   "metadata": {},
   "outputs": [
    {
     "data": {
      "text/plain": [
       "[[10, 18], [4, 0]]"
      ]
     },
     "execution_count": 9,
     "metadata": {},
     "output_type": "execute_result"
    }
   ],
   "source": [
    "result"
   ]
  },
  {
   "cell_type": "markdown",
   "metadata": {},
   "source": [
    "_______\n",
    "\n",
    "### Bonus:\n"
   ]
  },
  {
   "cell_type": "code",
   "execution_count": 20,
   "metadata": {},
   "outputs": [],
   "source": [
    "def palindrome(string):    \n",
    "     return string.lower() == string[::-1].lower()"
   ]
  },
  {
   "cell_type": "code",
   "execution_count": 21,
   "metadata": {},
   "outputs": [
    {
     "data": {
      "text/plain": [
       "True"
      ]
     },
     "execution_count": 21,
     "metadata": {},
     "output_type": "execute_result"
    }
   ],
   "source": [
    "palindrome(\"tooT\")"
   ]
  },
  {
   "cell_type": "code",
   "execution_count": 28,
   "metadata": {},
   "outputs": [
    {
     "name": "stdout",
     "output_type": "stream",
     "text": [
      "{<class 'int'>: [1, 7], <class 'float'>: [1.3, 4.4], <class 'str'>: ['hi', '45'], <class 'list'>: [[0, 1]]}\n"
     ]
    }
   ],
   "source": [
    "lst = [1, 1.3, 7, 4.4, 'hi', [0, 1], '45']\n",
    "\n",
    "def Q2(lst):\n",
    "    dic = {}\n",
    "    \n",
    "    for item in lst:\n",
    "        dic.setdefault(type(item), [])\n",
    "        dic[type(item)].append(item)\n",
    "        \n",
    "    print(dic)\n",
    "\n",
    "Q2(lst)"
   ]
  },
  {
   "cell_type": "code",
   "execution_count": 40,
   "metadata": {},
   "outputs": [],
   "source": [
    "def merge(lst1, lst2):\n",
    "    lst3 = []\n",
    "    flag = 1\n",
    "    while lst1 or lst2:\n",
    "        if flag == 1 and lst1:\n",
    "            lst3.append(lst1.pop(0))\n",
    "            flag = 0\n",
    "        else:\n",
    "            lst3.append(lst2.pop(0))\n",
    "            flag = 1\n",
    "    \n",
    "    return lst3"
   ]
  },
  {
   "cell_type": "code",
   "execution_count": 42,
   "metadata": {},
   "outputs": [
    {
     "name": "stdout",
     "output_type": "stream",
     "text": [
      "[1, 3, 2, 4, 5, 8, 9]\n"
     ]
    }
   ],
   "source": [
    "lst1 = [1, 2, 5]; lst2 = [3, 4, 8, 9]\n",
    "print(merge(lst1, lst2))"
   ]
  },
  {
   "cell_type": "code",
   "execution_count": null,
   "metadata": {},
   "outputs": [],
   "source": []
  }
 ],
 "metadata": {
  "kernelspec": {
   "display_name": "Python 3",
   "language": "python",
   "name": "python3"
  },
  "language_info": {
   "codemirror_mode": {
    "name": "ipython",
    "version": 3
   },
   "file_extension": ".py",
   "mimetype": "text/x-python",
   "name": "python",
   "nbconvert_exporter": "python",
   "pygments_lexer": "ipython3",
   "version": "3.7.10"
  }
 },
 "nbformat": 4,
 "nbformat_minor": 4
}
