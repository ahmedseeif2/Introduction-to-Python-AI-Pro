{
 "cells": [
  {
   "cell_type": "markdown",
   "metadata": {},
   "source": [
    "# Q1 \n",
    "Write a Calculator Program\n",
    "take 2 numbers and return + * - /"
   ]
  },
  {
   "cell_type": "code",
   "execution_count": 16,
   "metadata": {},
   "outputs": [
    {
     "name": "stdout",
     "output_type": "stream",
     "text": [
      "Enter your first number: 10\n",
      "Enter your second number: 20\n",
      "Enter the opertation wanted to be done: +\n",
      "10 + 20 = 30\n",
      "10 + 20 = 30\n",
      "10 - 20 = -10\n",
      "10 * 20 = 200\n",
      "10 / 20 = 0.5\n",
      "end or program\n"
     ]
    }
   ],
   "source": [
    "#import section\n",
    "import operator\n",
    "#helping data \n",
    "ops = {\n",
    "    '+' : operator.add,\n",
    "    '-' : operator.sub,\n",
    "    '*' : operator.mul,\n",
    "    '/' : operator.truediv,  # use operator.div for Python 2\n",
    "    '%' : operator.mod,\n",
    "    '^' : operator.xor,\n",
    "}\n",
    "#the functional code\n",
    "num1 = int(input(\"Enter your first number: \") )\n",
    "num2 = int(input(\"Enter your second number: \"))\n",
    "operation = input(\"Enter the opertation wanted to be done: \")\n",
    "print (num1 , operation , num2,'=', ops[operation](num1,num2))\n",
    "print(num1 ,'+', num2,'=',num1 + num2 )\n",
    "print(num1 ,'-', num2,'=',num1 - num2 )\n",
    "print(num1 ,'*', num2,'=',num1 * num2 )\n",
    "print(num1 ,'/', num2,'=',num1 / num2 )\n",
    "print(\"end or program\" )"
   ]
  },
  {
   "cell_type": "markdown",
   "metadata": {},
   "source": [
    "### Q2\n",
    "Write a program that reads 2 students’ information about math exam.\n",
    "•\tFor each student read: his name, id, and grade.\n",
    "•\tPrint the students.\n",
    "•\tPrint the grades average.\n"
   ]
  },
  {
   "cell_type": "code",
   "execution_count": 101,
   "metadata": {
    "scrolled": true
   },
   "outputs": [
    {
     "name": "stdout",
     "output_type": "stream",
     "text": [
      "enter the first student's name :asd\n",
      "enter the first student's ID :asd\n",
      "enter the first student's grade :20\n",
      "enter the second student's name :as\n",
      "enter the second student's ID :asda\n",
      "enter the second student's grade :50\n",
      "information got student and their \"math\" grades \n",
      "asd(id asd) got grades: 20\n",
      "as(id asda) got grades: 50\n",
      "Average math grade is 35.0\n"
     ]
    }
   ],
   "source": [
    "#first student Data \n",
    "first_name =input('enter the first student\\'s name :')\n",
    "first_ID =input('enter the first student\\'s ID :')\n",
    "first_grade =input('enter the first student\\'s grade :')\n",
    "#second student Data \n",
    "second_name =input('enter the second student\\'s name :')\n",
    "second_ID =input('enter the second student\\'s ID :')\n",
    "second_grade =input('enter the second student\\'s grade :')\n",
    "\n",
    "#avergae math grades\n",
    "grades = [int(first_grade) , int(second_grade)]\n",
    "avg_value = (int(first_grade) + int(second_grade)) /2  \n",
    "\n",
    "print(f'information got student and their \"math\" grades \\n\\\n",
    "{first_name}(id {first_ID}) got grades: {first_grade}\\n\\\n",
    "{second_name}(id {second_ID}) got grades: {second_grade}\\n\\\n",
    "Average math grade is {avg_value}')"
   ]
  },
  {
   "cell_type": "markdown",
   "metadata": {},
   "source": [
    "# Q3"
   ]
  },
  {
   "cell_type": "code",
   "execution_count": 44,
   "metadata": {},
   "outputs": [],
   "source": [
    "def swap2numbers (a, b):\n",
    "    new_b = a\n",
    "    a = b\n",
    "    b = new_b\n",
    "    return a ,b \n"
   ]
  },
  {
   "cell_type": "code",
   "execution_count": 46,
   "metadata": {},
   "outputs": [
    {
     "name": "stdout",
     "output_type": "stream",
     "text": [
      "Enter your first number: 20\n",
      "Enter your second number: 10\n",
      "first number: 10\n",
      "first number: 20\n"
     ]
    }
   ],
   "source": [
    "num1 = int(input(\"Enter your first number: \") )\n",
    "num2 = int(input(\"Enter your second number: \"))\n",
    "num1 , num2  = swap2numbers(num1 , num2)\n",
    "print(f'first number now is: {num1}')\n",
    "print(f'first number now is: {num2}')"
   ]
  },
  {
   "cell_type": "markdown",
   "metadata": {},
   "source": [
    "# Q4\n",
    "Print current date and time in Python       Print time only\n"
   ]
  },
  {
   "cell_type": "code",
   "execution_count": 103,
   "metadata": {},
   "outputs": [
    {
     "name": "stdout",
     "output_type": "stream",
     "text": [
      "Current Date and Time = 2021-04-13 14:18:04.634359\n",
      "Current Time = 14:18:04\n",
      "Current Time = 14:18:04.634359\n"
     ]
    }
   ],
   "source": [
    "#import section \n",
    "import datetime\n",
    "from datetime import datetime\n",
    "print(\"Current Date and Time =\" , datetime.now())\n",
    "print(\"Current Time =\", datetime.now().strftime(\"%H:%M:%S\"))\n",
    "print(\"Current Time =\", datetime.now().time())\n"
   ]
  },
  {
   "cell_type": "markdown",
   "metadata": {},
   "source": [
    "Given 8 integers, find the sum of those in even places and the sum of those in odd places.\n",
    "\n",
    "•\tNote: Even place means the 2nd, 4th, 6th or 8th numbers, odd places are the 1st, 3rd, 5th and 7th numbers.\n",
    "\n",
    "•\tInput: 11 2 7 9 12 -8 3 -1\n",
    "\n",
    "•\tOutput: 2 33\n",
    "\n",
    "•\tExample Explanation:\n",
    "\n",
    "•\t2 + 9 + (-8) + (-1) = 2 for the even places\n",
    "\n",
    "•\t11 + 7 + 12 + 3 = 33\tfor the odd places"
   ]
  },
  {
   "cell_type": "code",
   "execution_count": 60,
   "metadata": {},
   "outputs": [
    {
     "name": "stdout",
     "output_type": "stream",
     "text": [
      "odd places Sum : 33\n",
      "even places Sum : 2\n"
     ]
    }
   ],
   "source": [
    "list_of_numbers = [11 ,2 ,7 ,9 ,12 ,-8 ,3 ,-1]\n",
    "print('odd places Sum :',(list_of_numbers[0] + list_of_numbers[2] + list_of_numbers[4] + list_of_numbers[6]))\n",
    "print('even places Sum :',(list_of_numbers[1] + list_of_numbers[3] + list_of_numbers[5]+ list_of_numbers[7] ))"
   ]
  },
  {
   "cell_type": "markdown",
   "metadata": {},
   "source": [
    "# Q 5\n",
    "Write a Python program that accepts a word from the user and reverse it."
   ]
  },
  {
   "cell_type": "code",
   "execution_count": 62,
   "metadata": {},
   "outputs": [
    {
     "name": "stdout",
     "output_type": "stream",
     "text": [
      "enter your word :asd\n"
     ]
    },
    {
     "data": {
      "text/plain": [
       "'dsa'"
      ]
     },
     "execution_count": 62,
     "metadata": {},
     "output_type": "execute_result"
    }
   ],
   "source": [
    "\n",
    "your_word =input('enter your word :')\n",
    "your_word[::-1]"
   ]
  },
  {
   "cell_type": "markdown",
   "metadata": {},
   "source": [
    "# Q6\n",
    "Write a Python program to parse a string to Float or Integer.\n"
   ]
  },
  {
   "cell_type": "code",
   "execution_count": 73,
   "metadata": {},
   "outputs": [],
   "source": [
    "def phars(mystr , type):\n",
    "    mystr = float(mystr)\n",
    "    return mystr"
   ]
  },
  {
   "cell_type": "code",
   "execution_count": 106,
   "metadata": {},
   "outputs": [
    {
     "name": "stdout",
     "output_type": "stream",
     "text": [
      "enter your number :20\n",
      "enter wanted type :sad\n"
     ]
    },
    {
     "ename": "TypeError",
     "evalue": "phars() takes 1 positional argument but 2 were given",
     "output_type": "error",
     "traceback": [
      "\u001b[1;31m---------------------------------------------------------------------------\u001b[0m",
      "\u001b[1;31mTypeError\u001b[0m                                 Traceback (most recent call last)",
      "\u001b[1;32m<ipython-input-106-1cba2f092a4b>\u001b[0m in \u001b[0;36m<module>\u001b[1;34m\u001b[0m\n\u001b[0;32m      1\u001b[0m \u001b[0myour_number\u001b[0m \u001b[1;33m=\u001b[0m\u001b[0minput\u001b[0m\u001b[1;33m(\u001b[0m\u001b[1;34m'enter your number :'\u001b[0m\u001b[1;33m)\u001b[0m\u001b[1;33m\u001b[0m\u001b[1;33m\u001b[0m\u001b[0m\n\u001b[0;32m      2\u001b[0m \u001b[0mtype\u001b[0m  \u001b[1;33m=\u001b[0m\u001b[0minput\u001b[0m\u001b[1;33m(\u001b[0m\u001b[1;34m'enter wanted type :'\u001b[0m\u001b[1;33m)\u001b[0m\u001b[1;33m\u001b[0m\u001b[1;33m\u001b[0m\u001b[0m\n\u001b[1;32m----> 3\u001b[1;33m \u001b[0myour_number\u001b[0m \u001b[1;33m=\u001b[0m \u001b[0mphars\u001b[0m\u001b[1;33m(\u001b[0m\u001b[0myour_number\u001b[0m \u001b[1;33m,\u001b[0m \u001b[0mtype\u001b[0m\u001b[1;33m)\u001b[0m\u001b[1;33m\u001b[0m\u001b[1;33m\u001b[0m\u001b[0m\n\u001b[0m\u001b[0;32m      4\u001b[0m \u001b[0mprint\u001b[0m\u001b[1;33m(\u001b[0m\u001b[1;34m'the type is :'\u001b[0m\u001b[1;33m,\u001b[0m \u001b[0mtype\u001b[0m\u001b[1;33m(\u001b[0m\u001b[0myour_number\u001b[0m\u001b[1;33m)\u001b[0m\u001b[1;33m,\u001b[0m \u001b[1;34m'the value is '\u001b[0m \u001b[1;33m,\u001b[0m \u001b[0myour_number\u001b[0m\u001b[1;33m)\u001b[0m\u001b[1;33m\u001b[0m\u001b[1;33m\u001b[0m\u001b[0m\n",
      "\u001b[1;31mTypeError\u001b[0m: phars() takes 1 positional argument but 2 were given"
     ]
    }
   ],
   "source": [
    "your_number =input('enter your number :')\n",
    "type  =input('enter wanted type :')\n",
    "your_number = phars(your_number)\n",
    "print('the type is :', type(your_number), 'the value is ' , your_number)"
   ]
  },
  {
   "cell_type": "code",
   "execution_count": 107,
   "metadata": {},
   "outputs": [
    {
     "name": "stdout",
     "output_type": "stream",
     "text": [
      "the type is :the value is  20\n",
      "the type is :the value is  20.0\n"
     ]
    }
   ],
   "source": [
    "print('the type is :''the value is ' , int(your_number))\n",
    "print('the type is :''the value is ' , float(your_number))"
   ]
  },
  {
   "cell_type": "markdown",
   "metadata": {},
   "source": [
    "Write a Python program to get the Python version you are using."
   ]
  },
  {
   "cell_type": "code",
   "execution_count": 75,
   "metadata": {},
   "outputs": [
    {
     "name": "stdout",
     "output_type": "stream",
     "text": [
      "Python version:  3.8.3 (default, Jul  2 2020, 17:30:36) [MSC v.1916 64 bit (AMD64)]\n"
     ]
    }
   ],
   "source": [
    "import sys\n",
    "print(\"Python version: \" , sys.version)"
   ]
  },
  {
   "cell_type": "markdown",
   "metadata": {},
   "source": [
    "# Q7\n",
    "Write a Python program to print the calendar of a given month and year."
   ]
  },
  {
   "cell_type": "code",
   "execution_count": 76,
   "metadata": {},
   "outputs": [
    {
     "name": "stdout",
     "output_type": "stream",
     "text": [
      "Input the year : 2012\n",
      "Input the month : 2\n",
      "   February 2012\n",
      "Mo Tu We Th Fr Sa Su\n",
      "       1  2  3  4  5\n",
      " 6  7  8  9 10 11 12\n",
      "13 14 15 16 17 18 19\n",
      "20 21 22 23 24 25 26\n",
      "27 28 29\n",
      "\n"
     ]
    }
   ],
   "source": [
    "import calendar\n",
    "y = int(input(\"Input the year : \"))\n",
    "m = int(input(\"Input the month : \"))\n",
    "print(calendar.month(y, m))"
   ]
  },
  {
   "cell_type": "markdown",
   "metadata": {},
   "source": [
    "# Q8\n",
    "Convert two lists into a dictionary.\n",
    "\n",
    "keys = ['Ten', 'Twenty', 'Thirty']\n",
    "\n",
    "values = [10, 20, 30]\n"
   ]
  },
  {
   "cell_type": "code",
   "execution_count": 77,
   "metadata": {},
   "outputs": [
    {
     "data": {
      "text/plain": [
       "{'Ten': 10, 'Twenty': 20, 'Thirty': 30}"
      ]
     },
     "execution_count": 77,
     "metadata": {},
     "output_type": "execute_result"
    }
   ],
   "source": [
    "dict(zip(['Ten', 'Twenty', 'Thirty'],[10, 20, 30]))"
   ]
  },
  {
   "cell_type": "markdown",
   "metadata": {},
   "source": [
    "# Q9\n",
    "\n",
    "Return a new sorted set of identical items from a given two set.\n",
    "\n",
    "set1 = {10, 20, 30, 40, 50}\n",
    "\n",
    "set2 = {30, 40, 50, 60, 70}\n"
   ]
  },
  {
   "cell_type": "code",
   "execution_count": 108,
   "metadata": {},
   "outputs": [
    {
     "name": "stdout",
     "output_type": "stream",
     "text": [
      "{40, 50, 30}\n"
     ]
    }
   ],
   "source": [
    "set1 = {10, 20, 30, 40, 50}\n",
    "\n",
    "set2 = {30, 40, 50, 60, 70}\n",
    "\n",
    "final_set = set1.intersection(set2)\n",
    "\n",
    "print(final_set)"
   ]
  },
  {
   "cell_type": "code",
   "execution_count": 109,
   "metadata": {},
   "outputs": [
    {
     "data": {
      "text/plain": [
       "[30, 40, 50]"
      ]
     },
     "execution_count": 109,
     "metadata": {},
     "output_type": "execute_result"
    }
   ],
   "source": [
    "sorted(final_set)"
   ]
  },
  {
   "cell_type": "markdown",
   "metadata": {},
   "source": [
    "# Q 10\n",
    "Counts the number of occurrences of item 50 from a tuple.\n",
    "\n",
    "tuple1 = (50, 10, 60, 70, 50)"
   ]
  },
  {
   "cell_type": "code",
   "execution_count": 81,
   "metadata": {},
   "outputs": [
    {
     "data": {
      "text/plain": [
       "2"
      ]
     },
     "execution_count": 81,
     "metadata": {},
     "output_type": "execute_result"
    }
   ],
   "source": [
    "tuple1 = (50, 10, 60, 70, 50)\n",
    "tuple1.count(50)"
   ]
  },
  {
   "cell_type": "markdown",
   "metadata": {},
   "source": [
    "# Q 11\n",
    "Remove empty strings and numbers from the list. \n",
    "\n",
    "list1 = [9,\"I’m\", \"\", \" learning \", \" python \", \"\", \" at ITI\"]\n"
   ]
  },
  {
   "cell_type": "code",
   "execution_count": 114,
   "metadata": {},
   "outputs": [
    {
     "data": {
      "text/plain": [
       "[9, 'I’m', ' learning ', ' python ', ' at ITI']"
      ]
     },
     "execution_count": 114,
     "metadata": {},
     "output_type": "execute_result"
    }
   ],
   "source": [
    "list1 = [9,\"I’m\", \"\", \" learning \", \" python \", \"\", \" at ITI\"]\n",
    "to_filter = [None, bool ,  \"\"]\n",
    "\n",
    "list11 = filter(None, list1)\n",
    "list(list11)"
   ]
  },
  {
   "cell_type": "markdown",
   "metadata": {},
   "source": [
    "# Q 12\n",
    "Guess the output of this program:\n",
    "\n",
    "# print(\"The best among you is the one who doesn’t harm others with his tongue and hands.\")\n",
    "\n",
    "The best among you is the one who doesn’t harm others with his tongue and hands.\n",
    "\n",
    "•\tEmpty Output\n",
    "\n",
    "•\tError\n",
    "********************************************************\n",
    "str1 = 'mostafa'\n",
    "print(str1 + 3 * 'saad')\n",
    "\n",
    "•\tError\n",
    "\n",
    "•\tmostafasaadsaadsaad\n",
    "\n",
    "(x)\tmostafasaadsaad\n",
    "\n",
    "•\tmostafa saad saad saad\n",
    "\n",
    "********************************************************\n",
    "str = 'Moustafa'\n",
    "len = len(str)\n",
    "str = str * 2 * len\n",
    "print(len(str))\n",
    "\n",
    "(x)\tError\n",
    "•\t128\n",
    "•\t256\n",
    "•\t64\n"
   ]
  }
 ],
 "metadata": {
  "kernelspec": {
   "display_name": "Python 3",
   "language": "python",
   "name": "python3"
  },
  "language_info": {
   "codemirror_mode": {
    "name": "ipython",
    "version": 3
   },
   "file_extension": ".py",
   "mimetype": "text/x-python",
   "name": "python",
   "nbconvert_exporter": "python",
   "pygments_lexer": "ipython3",
   "version": "3.8.3"
  }
 },
 "nbformat": 4,
 "nbformat_minor": 4
}
