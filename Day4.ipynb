{
 "cells": [
  {
   "cell_type": "code",
   "execution_count": 6,
   "metadata": {},
   "outputs": [],
   "source": [
    "import mode\n"
   ]
  },
  {
   "cell_type": "code",
   "execution_count": 8,
   "metadata": {},
   "outputs": [],
   "source": [
    "import pandas as pd"
   ]
  },
  {
   "cell_type": "code",
   "execution_count": 9,
   "metadata": {},
   "outputs": [],
   "source": [
    "df = pd.read_csv('Data.csv')"
   ]
  },
  {
   "cell_type": "code",
   "execution_count": 10,
   "metadata": {},
   "outputs": [
    {
     "data": {
      "text/html": [
       "<div>\n",
       "<style scoped>\n",
       "    .dataframe tbody tr th:only-of-type {\n",
       "        vertical-align: middle;\n",
       "    }\n",
       "\n",
       "    .dataframe tbody tr th {\n",
       "        vertical-align: top;\n",
       "    }\n",
       "\n",
       "    .dataframe thead th {\n",
       "        text-align: right;\n",
       "    }\n",
       "</style>\n",
       "<table border=\"1\" class=\"dataframe\">\n",
       "  <thead>\n",
       "    <tr style=\"text-align: right;\">\n",
       "      <th></th>\n",
       "      <th>Unnamed: 0</th>\n",
       "      <th>index</th>\n",
       "      <th>ID</th>\n",
       "      <th>Make</th>\n",
       "      <th>Model</th>\n",
       "      <th>Year</th>\n",
       "      <th>MSRP</th>\n",
       "      <th>Invoice</th>\n",
       "      <th>Colors exterior</th>\n",
       "      <th>Colors interior</th>\n",
       "      <th>...</th>\n",
       "      <th>Country of origin</th>\n",
       "      <th>Car classification</th>\n",
       "      <th>Platform code / generation number</th>\n",
       "      <th>Date added</th>\n",
       "      <th>EPA mileage (mpg) City</th>\n",
       "      <th>EPA mileage (mpg) Highway</th>\n",
       "      <th>Range (miles) City</th>\n",
       "      <th>Range (miles) Highway</th>\n",
       "      <th>MSRP Range low</th>\n",
       "      <th>MSRP Range high</th>\n",
       "    </tr>\n",
       "  </thead>\n",
       "  <tbody>\n",
       "    <tr>\n",
       "      <th>0</th>\n",
       "      <td>0</td>\n",
       "      <td>13</td>\n",
       "      <td>213</td>\n",
       "      <td>BMW</td>\n",
       "      <td>3 Series</td>\n",
       "      <td>1990</td>\n",
       "      <td>NaN</td>\n",
       "      <td>NaN</td>\n",
       "      <td>NaN</td>\n",
       "      <td>NaN</td>\n",
       "      <td>...</td>\n",
       "      <td>Germany</td>\n",
       "      <td>Compact car</td>\n",
       "      <td>E30</td>\n",
       "      <td>2020-02-14 00:00:00</td>\n",
       "      <td>16.0</td>\n",
       "      <td>23.0</td>\n",
       "      <td>262.4</td>\n",
       "      <td>377.2</td>\n",
       "      <td>NaN</td>\n",
       "      <td>NaN</td>\n",
       "    </tr>\n",
       "    <tr>\n",
       "      <th>1</th>\n",
       "      <td>1</td>\n",
       "      <td>14</td>\n",
       "      <td>216</td>\n",
       "      <td>BMW</td>\n",
       "      <td>3 Series</td>\n",
       "      <td>1990</td>\n",
       "      <td>NaN</td>\n",
       "      <td>NaN</td>\n",
       "      <td>NaN</td>\n",
       "      <td>NaN</td>\n",
       "      <td>...</td>\n",
       "      <td>Germany</td>\n",
       "      <td>Compact car</td>\n",
       "      <td>E30</td>\n",
       "      <td>2020-02-14 00:00:00</td>\n",
       "      <td>16.0</td>\n",
       "      <td>22.0</td>\n",
       "      <td>262.4</td>\n",
       "      <td>360.8</td>\n",
       "      <td>NaN</td>\n",
       "      <td>NaN</td>\n",
       "    </tr>\n",
       "    <tr>\n",
       "      <th>2</th>\n",
       "      <td>2</td>\n",
       "      <td>15</td>\n",
       "      <td>222</td>\n",
       "      <td>BMW</td>\n",
       "      <td>3 Series</td>\n",
       "      <td>1990</td>\n",
       "      <td>NaN</td>\n",
       "      <td>NaN</td>\n",
       "      <td>NaN</td>\n",
       "      <td>NaN</td>\n",
       "      <td>...</td>\n",
       "      <td>Germany</td>\n",
       "      <td>Compact car</td>\n",
       "      <td>E30</td>\n",
       "      <td>2020-02-14 00:00:00</td>\n",
       "      <td>15.0</td>\n",
       "      <td>22.0</td>\n",
       "      <td>246.0</td>\n",
       "      <td>360.8</td>\n",
       "      <td>NaN</td>\n",
       "      <td>NaN</td>\n",
       "    </tr>\n",
       "    <tr>\n",
       "      <th>3</th>\n",
       "      <td>3</td>\n",
       "      <td>16</td>\n",
       "      <td>218</td>\n",
       "      <td>BMW</td>\n",
       "      <td>3 Series</td>\n",
       "      <td>1990</td>\n",
       "      <td>NaN</td>\n",
       "      <td>NaN</td>\n",
       "      <td>NaN</td>\n",
       "      <td>NaN</td>\n",
       "      <td>...</td>\n",
       "      <td>Germany</td>\n",
       "      <td>Compact car</td>\n",
       "      <td>E30</td>\n",
       "      <td>2020-02-14 00:00:00</td>\n",
       "      <td>16.0</td>\n",
       "      <td>22.0</td>\n",
       "      <td>262.4</td>\n",
       "      <td>360.8</td>\n",
       "      <td>NaN</td>\n",
       "      <td>NaN</td>\n",
       "    </tr>\n",
       "    <tr>\n",
       "      <th>4</th>\n",
       "      <td>4</td>\n",
       "      <td>17</td>\n",
       "      <td>215</td>\n",
       "      <td>BMW</td>\n",
       "      <td>3 Series</td>\n",
       "      <td>1990</td>\n",
       "      <td>NaN</td>\n",
       "      <td>NaN</td>\n",
       "      <td>NaN</td>\n",
       "      <td>NaN</td>\n",
       "      <td>...</td>\n",
       "      <td>Germany</td>\n",
       "      <td>Compact car</td>\n",
       "      <td>E30</td>\n",
       "      <td>2020-02-14 00:00:00</td>\n",
       "      <td>16.0</td>\n",
       "      <td>22.0</td>\n",
       "      <td>262.4</td>\n",
       "      <td>360.8</td>\n",
       "      <td>NaN</td>\n",
       "      <td>NaN</td>\n",
       "    </tr>\n",
       "  </tbody>\n",
       "</table>\n",
       "<p>5 rows × 99 columns</p>\n",
       "</div>"
      ],
      "text/plain": [
       "   Unnamed: 0  index   ID Make     Model  Year  MSRP  Invoice Colors exterior  \\\n",
       "0           0     13  213  BMW  3 Series  1990   NaN      NaN             NaN   \n",
       "1           1     14  216  BMW  3 Series  1990   NaN      NaN             NaN   \n",
       "2           2     15  222  BMW  3 Series  1990   NaN      NaN             NaN   \n",
       "3           3     16  218  BMW  3 Series  1990   NaN      NaN             NaN   \n",
       "4           4     17  215  BMW  3 Series  1990   NaN      NaN             NaN   \n",
       "\n",
       "  Colors interior  ... Country of origin  Car classification  \\\n",
       "0             NaN  ...           Germany         Compact car   \n",
       "1             NaN  ...           Germany         Compact car   \n",
       "2             NaN  ...           Germany         Compact car   \n",
       "3             NaN  ...           Germany         Compact car   \n",
       "4             NaN  ...           Germany         Compact car   \n",
       "\n",
       "   Platform code / generation number           Date added  \\\n",
       "0                                E30  2020-02-14 00:00:00   \n",
       "1                                E30  2020-02-14 00:00:00   \n",
       "2                                E30  2020-02-14 00:00:00   \n",
       "3                                E30  2020-02-14 00:00:00   \n",
       "4                                E30  2020-02-14 00:00:00   \n",
       "\n",
       "   EPA mileage (mpg) City  EPA mileage (mpg) Highway  Range (miles) City  \\\n",
       "0                    16.0                       23.0               262.4   \n",
       "1                    16.0                       22.0               262.4   \n",
       "2                    15.0                       22.0               246.0   \n",
       "3                    16.0                       22.0               262.4   \n",
       "4                    16.0                       22.0               262.4   \n",
       "\n",
       "   Range (miles) Highway  MSRP Range low  MSRP Range high  \n",
       "0                  377.2             NaN              NaN  \n",
       "1                  360.8             NaN              NaN  \n",
       "2                  360.8             NaN              NaN  \n",
       "3                  360.8             NaN              NaN  \n",
       "4                  360.8             NaN              NaN  \n",
       "\n",
       "[5 rows x 99 columns]"
      ]
     },
     "execution_count": 10,
     "metadata": {},
     "output_type": "execute_result"
    }
   ],
   "source": [
    "df.head(5)"
   ]
  },
  {
   "cell_type": "code",
   "execution_count": 11,
   "metadata": {},
   "outputs": [
    {
     "data": {
      "text/html": [
       "<div>\n",
       "<style scoped>\n",
       "    .dataframe tbody tr th:only-of-type {\n",
       "        vertical-align: middle;\n",
       "    }\n",
       "\n",
       "    .dataframe tbody tr th {\n",
       "        vertical-align: top;\n",
       "    }\n",
       "\n",
       "    .dataframe thead th {\n",
       "        text-align: right;\n",
       "    }\n",
       "</style>\n",
       "<table border=\"1\" class=\"dataframe\">\n",
       "  <thead>\n",
       "    <tr style=\"text-align: right;\">\n",
       "      <th></th>\n",
       "      <th>Unnamed: 0</th>\n",
       "      <th>index</th>\n",
       "      <th>ID</th>\n",
       "      <th>Make</th>\n",
       "      <th>Model</th>\n",
       "      <th>Year</th>\n",
       "      <th>MSRP</th>\n",
       "      <th>Invoice</th>\n",
       "      <th>Colors exterior</th>\n",
       "      <th>Colors interior</th>\n",
       "      <th>...</th>\n",
       "      <th>Country of origin</th>\n",
       "      <th>Car classification</th>\n",
       "      <th>Platform code / generation number</th>\n",
       "      <th>Date added</th>\n",
       "      <th>EPA mileage (mpg) City</th>\n",
       "      <th>EPA mileage (mpg) Highway</th>\n",
       "      <th>Range (miles) City</th>\n",
       "      <th>Range (miles) Highway</th>\n",
       "      <th>MSRP Range low</th>\n",
       "      <th>MSRP Range high</th>\n",
       "    </tr>\n",
       "  </thead>\n",
       "  <tbody>\n",
       "    <tr>\n",
       "      <th>531</th>\n",
       "      <td>533</td>\n",
       "      <td>546</td>\n",
       "      <td>401819541</td>\n",
       "      <td>Toyota</td>\n",
       "      <td>Prius</td>\n",
       "      <td>2020</td>\n",
       "      <td>25535.0</td>\n",
       "      <td>24003.0</td>\n",
       "      <td>[{'color_name': 'lassic Silver Metallic', 'col...</td>\n",
       "      <td>[{'color_name': 'oonstone, cloth', 'color_code...</td>\n",
       "      <td>...</td>\n",
       "      <td>Japan</td>\n",
       "      <td>Compact car</td>\n",
       "      <td>XW50</td>\n",
       "      <td>2020-02-14 00:00:00</td>\n",
       "      <td>54.0</td>\n",
       "      <td>50.0</td>\n",
       "      <td>610.2</td>\n",
       "      <td>565.0</td>\n",
       "      <td>24,325</td>\n",
       "      <td>32,500</td>\n",
       "    </tr>\n",
       "    <tr>\n",
       "      <th>532</th>\n",
       "      <td>534</td>\n",
       "      <td>547</td>\n",
       "      <td>401819537</td>\n",
       "      <td>Toyota</td>\n",
       "      <td>Prius</td>\n",
       "      <td>2020</td>\n",
       "      <td>26935.0</td>\n",
       "      <td>25319.0</td>\n",
       "      <td>[{'color_name': 'lassic Silver Metallic', 'col...</td>\n",
       "      <td>[{'color_name': 'oonstone, cloth', 'color_code...</td>\n",
       "      <td>...</td>\n",
       "      <td>Japan</td>\n",
       "      <td>Compact car</td>\n",
       "      <td>XW50</td>\n",
       "      <td>2020-02-14 00:00:00</td>\n",
       "      <td>52.0</td>\n",
       "      <td>48.0</td>\n",
       "      <td>551.2</td>\n",
       "      <td>508.8</td>\n",
       "      <td>24,325</td>\n",
       "      <td>32,500</td>\n",
       "    </tr>\n",
       "    <tr>\n",
       "      <th>533</th>\n",
       "      <td>535</td>\n",
       "      <td>548</td>\n",
       "      <td>401819540</td>\n",
       "      <td>Toyota</td>\n",
       "      <td>Prius</td>\n",
       "      <td>2020</td>\n",
       "      <td>28375.0</td>\n",
       "      <td>26416.0</td>\n",
       "      <td>[{'color_name': 'lassic Silver Metallic', 'col...</td>\n",
       "      <td>[{'color_name': 'oonstone, leatherette', 'colo...</td>\n",
       "      <td>...</td>\n",
       "      <td>Japan</td>\n",
       "      <td>Compact car</td>\n",
       "      <td>XW50</td>\n",
       "      <td>2020-02-14 00:00:00</td>\n",
       "      <td>54.0</td>\n",
       "      <td>50.0</td>\n",
       "      <td>610.2</td>\n",
       "      <td>565.0</td>\n",
       "      <td>24,325</td>\n",
       "      <td>32,500</td>\n",
       "    </tr>\n",
       "    <tr>\n",
       "      <th>534</th>\n",
       "      <td>536</td>\n",
       "      <td>549</td>\n",
       "      <td>401819538</td>\n",
       "      <td>Toyota</td>\n",
       "      <td>Prius</td>\n",
       "      <td>2020</td>\n",
       "      <td>29375.0</td>\n",
       "      <td>27346.0</td>\n",
       "      <td>[{'color_name': 'lassic Silver Metallic', 'col...</td>\n",
       "      <td>[{'color_name': 'oonstone, leatherette', 'colo...</td>\n",
       "      <td>...</td>\n",
       "      <td>Japan</td>\n",
       "      <td>Compact car</td>\n",
       "      <td>XW50</td>\n",
       "      <td>2020-02-14 00:00:00</td>\n",
       "      <td>52.0</td>\n",
       "      <td>48.0</td>\n",
       "      <td>551.2</td>\n",
       "      <td>508.8</td>\n",
       "      <td>24,325</td>\n",
       "      <td>32,500</td>\n",
       "    </tr>\n",
       "    <tr>\n",
       "      <th>535</th>\n",
       "      <td>537</td>\n",
       "      <td>550</td>\n",
       "      <td>401819542</td>\n",
       "      <td>Toyota</td>\n",
       "      <td>Prius</td>\n",
       "      <td>2020</td>\n",
       "      <td>32500.0</td>\n",
       "      <td>30256.0</td>\n",
       "      <td>[{'color_name': 'lassic Silver Metallic', 'col...</td>\n",
       "      <td>[{'color_name': 'oonstone, leatherette', 'colo...</td>\n",
       "      <td>...</td>\n",
       "      <td>Japan</td>\n",
       "      <td>Compact car</td>\n",
       "      <td>XW50</td>\n",
       "      <td>2020-02-14 00:00:00</td>\n",
       "      <td>54.0</td>\n",
       "      <td>50.0</td>\n",
       "      <td>610.2</td>\n",
       "      <td>565.0</td>\n",
       "      <td>24,325</td>\n",
       "      <td>32,500</td>\n",
       "    </tr>\n",
       "  </tbody>\n",
       "</table>\n",
       "<p>5 rows × 99 columns</p>\n",
       "</div>"
      ],
      "text/plain": [
       "     Unnamed: 0  index         ID    Make  Model  Year     MSRP  Invoice  \\\n",
       "531         533    546  401819541  Toyota  Prius  2020  25535.0  24003.0   \n",
       "532         534    547  401819537  Toyota  Prius  2020  26935.0  25319.0   \n",
       "533         535    548  401819540  Toyota  Prius  2020  28375.0  26416.0   \n",
       "534         536    549  401819538  Toyota  Prius  2020  29375.0  27346.0   \n",
       "535         537    550  401819542  Toyota  Prius  2020  32500.0  30256.0   \n",
       "\n",
       "                                       Colors exterior  \\\n",
       "531  [{'color_name': 'lassic Silver Metallic', 'col...   \n",
       "532  [{'color_name': 'lassic Silver Metallic', 'col...   \n",
       "533  [{'color_name': 'lassic Silver Metallic', 'col...   \n",
       "534  [{'color_name': 'lassic Silver Metallic', 'col...   \n",
       "535  [{'color_name': 'lassic Silver Metallic', 'col...   \n",
       "\n",
       "                                       Colors interior  ... Country of origin  \\\n",
       "531  [{'color_name': 'oonstone, cloth', 'color_code...  ...             Japan   \n",
       "532  [{'color_name': 'oonstone, cloth', 'color_code...  ...             Japan   \n",
       "533  [{'color_name': 'oonstone, leatherette', 'colo...  ...             Japan   \n",
       "534  [{'color_name': 'oonstone, leatherette', 'colo...  ...             Japan   \n",
       "535  [{'color_name': 'oonstone, leatherette', 'colo...  ...             Japan   \n",
       "\n",
       "     Car classification  Platform code / generation number  \\\n",
       "531         Compact car                               XW50   \n",
       "532         Compact car                               XW50   \n",
       "533         Compact car                               XW50   \n",
       "534         Compact car                               XW50   \n",
       "535         Compact car                               XW50   \n",
       "\n",
       "              Date added  EPA mileage (mpg) City  EPA mileage (mpg) Highway  \\\n",
       "531  2020-02-14 00:00:00                    54.0                       50.0   \n",
       "532  2020-02-14 00:00:00                    52.0                       48.0   \n",
       "533  2020-02-14 00:00:00                    54.0                       50.0   \n",
       "534  2020-02-14 00:00:00                    52.0                       48.0   \n",
       "535  2020-02-14 00:00:00                    54.0                       50.0   \n",
       "\n",
       "     Range (miles) City  Range (miles) Highway  MSRP Range low  \\\n",
       "531               610.2                  565.0         24,325    \n",
       "532               551.2                  508.8         24,325    \n",
       "533               610.2                  565.0         24,325    \n",
       "534               551.2                  508.8         24,325    \n",
       "535               610.2                  565.0         24,325    \n",
       "\n",
       "     MSRP Range high  \n",
       "531           32,500  \n",
       "532           32,500  \n",
       "533           32,500  \n",
       "534           32,500  \n",
       "535           32,500  \n",
       "\n",
       "[5 rows x 99 columns]"
      ]
     },
     "execution_count": 11,
     "metadata": {},
     "output_type": "execute_result"
    }
   ],
   "source": [
    "df.tail(5)"
   ]
  },
  {
   "cell_type": "markdown",
   "metadata": {},
   "source": [
    "Max * sum of file"
   ]
  },
  {
   "cell_type": "code",
   "execution_count": 37,
   "metadata": {},
   "outputs": [
    {
     "data": {
      "text/plain": [
       "1200"
      ]
     },
     "execution_count": 37,
     "metadata": {},
     "output_type": "execute_result"
    }
   ],
   "source": [
    "with open(\"data.txt\", \"r\") as data:\n",
    "    list = []\n",
    "    Lines = data.readlines()\n",
    "    for line in Lines:\n",
    "        num = abs(int(line))\n",
    "        list.append(num)\n",
    "        \n",
    "sum(list)*max(list)"
   ]
  },
  {
   "cell_type": "code",
   "execution_count": 33,
   "metadata": {
    "scrolled": true
   },
   "outputs": [
    {
     "data": {
      "text/plain": [
       "[10, 20, 2, 5, 5, 8, 10]"
      ]
     },
     "execution_count": 33,
     "metadata": {},
     "output_type": "execute_result"
    }
   ],
   "source": [
    "list"
   ]
  },
  {
   "cell_type": "code",
   "execution_count": 39,
   "metadata": {},
   "outputs": [
    {
     "data": {
      "text/plain": [
       "1200"
      ]
     },
     "execution_count": 39,
     "metadata": {},
     "output_type": "execute_result"
    }
   ],
   "source": [
    "multiplied_list = [element * max(list) for element in list]\n",
    "sum(multiplied_list)"
   ]
  },
  {
   "cell_type": "markdown",
   "metadata": {},
   "source": [
    "### Q1\n",
    "If you are displaying values in a loop, the values will be displayed on individual lines\n",
    "\n",
    "We need to display the values on one line, rather than on individual lines"
   ]
  },
  {
   "cell_type": "code",
   "execution_count": 107,
   "metadata": {},
   "outputs": [
    {
     "name": "stdout",
     "output_type": "stream",
     "text": [
      "0 1 2 3 4 5 "
     ]
    }
   ],
   "source": [
    "for n in range (6):\n",
    "    print(n, end = ' ')"
   ]
  },
  {
   "cell_type": "markdown",
   "metadata": {},
   "source": [
    "### Q2\n",
    "Display float number with 2 decimal places using print()"
   ]
  },
  {
   "cell_type": "code",
   "execution_count": 108,
   "metadata": {},
   "outputs": [
    {
     "name": "stdout",
     "output_type": "stream",
     "text": [
      "458.54\n"
     ]
    }
   ],
   "source": [
    "print(\"{:.2f}\".format(458.541315))"
   ]
  },
  {
   "cell_type": "markdown",
   "metadata": {},
   "source": [
    "### Q3\n",
    "Accept a list of any float numbers as an input from the user\n"
   ]
  },
  {
   "cell_type": "code",
   "execution_count": 1,
   "metadata": {
    "scrolled": true
   },
   "outputs": [
    {
     "name": "stdout",
     "output_type": "stream",
     "text": [
      "enter float number plz: 20 30 40\n",
      "[20.0, 30.0, 40.0]\n"
     ]
    }
   ],
   "source": [
    "lst = list(map(float, input(\"enter float number plz: \").split()))\n",
    "print(lst)\n",
    "# list = []\n",
    "# for i in lst:\n",
    "#     list.append(i)\n",
    "# list"
   ]
  },
  {
   "cell_type": "markdown",
   "metadata": {},
   "source": [
    "### Q4\n",
    "How to check file is empty or not"
   ]
  },
  {
   "cell_type": "code",
   "execution_count": 94,
   "metadata": {},
   "outputs": [
    {
     "name": "stdout",
     "output_type": "stream",
     "text": [
      "File is empty\n"
     ]
    }
   ],
   "source": [
    "import os\n",
    "file_path = 'mysample.txt'\n",
    "# check if size of file is 0\n",
    "if os.stat(file_path).st_size == 0:\n",
    "    print('File is empty')\n",
    "else:\n",
    "    print('File is not empty')"
   ]
  },
  {
   "cell_type": "code",
   "execution_count": 95,
   "metadata": {},
   "outputs": [
    {
     "name": "stdout",
     "output_type": "stream",
     "text": [
      "File is not empty\n"
     ]
    }
   ],
   "source": [
    "file_path = 'data.txt'\n",
    "# check if size of file is 0\n",
    "if os.stat(file_path).st_size == 0:\n",
    "    print('File is empty')\n",
    "else:\n",
    "    print('File is not empty')"
   ]
  },
  {
   "cell_type": "markdown",
   "metadata": {},
   "source": [
    "### Q5\n",
    "\n",
    "Sort JSON keys in and write them into a file\n"
   ]
  },
  {
   "cell_type": "code",
   "execution_count": 2,
   "metadata": {},
   "outputs": [
    {
     "name": "stdout",
     "output_type": "stream",
     "text": [
      "{'2': {'name': 'A', 'Label': 'Student'}, '3': {'name': 'B', 'Label': 'Student'}, '1': {'name': 'B', 'Label': 'Student'}}\n"
     ]
    }
   ],
   "source": [
    "import json\n",
    "from collections import OrderedDict\n",
    "x = {\n",
    "\"2\":{\"name\": \"A\", \"Label\": \"Student\"}, \n",
    "\"3\":{\"name\": \"B\", \"Label\": \"Student\"}, \n",
    "\"1\":{\"name\": \"B\", \"Label\": \"Student\"}, \n",
    "}\n",
    "print(x)\n",
    "# convert into JSON:\n",
    "x = OrderedDict(sorted(x.items()))"
   ]
  },
  {
   "cell_type": "code",
   "execution_count": 97,
   "metadata": {},
   "outputs": [],
   "source": [
    "with open('jsonfile.txt', 'w') as outfile:\n",
    "    json.dump(x, outfile)"
   ]
  },
  {
   "cell_type": "code",
   "execution_count": 98,
   "metadata": {},
   "outputs": [
    {
     "name": "stdout",
     "output_type": "stream",
     "text": [
      "{'1': {'name': 'B', 'Label': 'Student'}, '2': {'name': 'A', 'Label': 'Student'}, '3': {'name': 'B', 'Label': 'Student'}}\n"
     ]
    }
   ],
   "source": [
    "with open('jsonfile.txt') as json_file:\n",
    "    data = json.load(json_file)\n",
    "    print(data)"
   ]
  },
  {
   "cell_type": "markdown",
   "metadata": {},
   "source": [
    "### Q6\n",
    "Parse the following JSON to get all the values of a key ‘name’ within an array"
   ]
  },
  {
   "cell_type": "code",
   "execution_count": 104,
   "metadata": {},
   "outputs": [],
   "source": [
    "Json = [{\n",
    "\"id\": 1,\n",
    "\"name\": \"name1\",\n",
    "\"color\": [\n",
    "\"red\",\n",
    "\"green\"\n",
    "]\n",
    "},\n",
    "{\n",
    "\"id\": 2,\n",
    "\"name\": \"name2\",\n",
    "\"color\": [\n",
    "\"pink\",\n",
    "\"yellow\"\n",
    "]\n",
    "}]\n",
    "\n"
   ]
  },
  {
   "cell_type": "code",
   "execution_count": 105,
   "metadata": {},
   "outputs": [
    {
     "name": "stdout",
     "output_type": "stream",
     "text": [
      "['name1', 'name2']\n"
     ]
    }
   ],
   "source": [
    "li = [item.get('name') for item in Json]\n",
    "print(li)"
   ]
  },
  {
   "cell_type": "markdown",
   "metadata": {},
   "source": [
    "### Q7\n",
    "From the given dataset print the first and last five rows"
   ]
  },
  {
   "cell_type": "code",
   "execution_count": 101,
   "metadata": {},
   "outputs": [],
   "source": [
    "df = pd.read_csv('Data.csv')"
   ]
  },
  {
   "cell_type": "code",
   "execution_count": 102,
   "metadata": {},
   "outputs": [
    {
     "data": {
      "text/html": [
       "<div>\n",
       "<style scoped>\n",
       "    .dataframe tbody tr th:only-of-type {\n",
       "        vertical-align: middle;\n",
       "    }\n",
       "\n",
       "    .dataframe tbody tr th {\n",
       "        vertical-align: top;\n",
       "    }\n",
       "\n",
       "    .dataframe thead th {\n",
       "        text-align: right;\n",
       "    }\n",
       "</style>\n",
       "<table border=\"1\" class=\"dataframe\">\n",
       "  <thead>\n",
       "    <tr style=\"text-align: right;\">\n",
       "      <th></th>\n",
       "      <th>Unnamed: 0</th>\n",
       "      <th>index</th>\n",
       "      <th>ID</th>\n",
       "      <th>Make</th>\n",
       "      <th>Model</th>\n",
       "      <th>Year</th>\n",
       "      <th>MSRP</th>\n",
       "      <th>Invoice</th>\n",
       "      <th>Colors exterior</th>\n",
       "      <th>Colors interior</th>\n",
       "      <th>...</th>\n",
       "      <th>Country of origin</th>\n",
       "      <th>Car classification</th>\n",
       "      <th>Platform code / generation number</th>\n",
       "      <th>Date added</th>\n",
       "      <th>EPA mileage (mpg) City</th>\n",
       "      <th>EPA mileage (mpg) Highway</th>\n",
       "      <th>Range (miles) City</th>\n",
       "      <th>Range (miles) Highway</th>\n",
       "      <th>MSRP Range low</th>\n",
       "      <th>MSRP Range high</th>\n",
       "    </tr>\n",
       "  </thead>\n",
       "  <tbody>\n",
       "    <tr>\n",
       "      <th>0</th>\n",
       "      <td>0</td>\n",
       "      <td>13</td>\n",
       "      <td>213</td>\n",
       "      <td>BMW</td>\n",
       "      <td>3 Series</td>\n",
       "      <td>1990</td>\n",
       "      <td>NaN</td>\n",
       "      <td>NaN</td>\n",
       "      <td>NaN</td>\n",
       "      <td>NaN</td>\n",
       "      <td>...</td>\n",
       "      <td>Germany</td>\n",
       "      <td>Compact car</td>\n",
       "      <td>E30</td>\n",
       "      <td>2020-02-14 00:00:00</td>\n",
       "      <td>16.0</td>\n",
       "      <td>23.0</td>\n",
       "      <td>262.4</td>\n",
       "      <td>377.2</td>\n",
       "      <td>NaN</td>\n",
       "      <td>NaN</td>\n",
       "    </tr>\n",
       "  </tbody>\n",
       "</table>\n",
       "<p>1 rows × 99 columns</p>\n",
       "</div>"
      ],
      "text/plain": [
       "   Unnamed: 0  index   ID Make     Model  Year  MSRP  Invoice Colors exterior  \\\n",
       "0           0     13  213  BMW  3 Series  1990   NaN      NaN             NaN   \n",
       "\n",
       "  Colors interior  ... Country of origin  Car classification  \\\n",
       "0             NaN  ...           Germany         Compact car   \n",
       "\n",
       "   Platform code / generation number           Date added  \\\n",
       "0                                E30  2020-02-14 00:00:00   \n",
       "\n",
       "   EPA mileage (mpg) City  EPA mileage (mpg) Highway  Range (miles) City  \\\n",
       "0                    16.0                       23.0               262.4   \n",
       "\n",
       "   Range (miles) Highway  MSRP Range low  MSRP Range high  \n",
       "0                  377.2             NaN              NaN  \n",
       "\n",
       "[1 rows x 99 columns]"
      ]
     },
     "execution_count": 102,
     "metadata": {},
     "output_type": "execute_result"
    }
   ],
   "source": [
    "df.head(1)"
   ]
  },
  {
   "cell_type": "code",
   "execution_count": 103,
   "metadata": {},
   "outputs": [
    {
     "data": {
      "text/html": [
       "<div>\n",
       "<style scoped>\n",
       "    .dataframe tbody tr th:only-of-type {\n",
       "        vertical-align: middle;\n",
       "    }\n",
       "\n",
       "    .dataframe tbody tr th {\n",
       "        vertical-align: top;\n",
       "    }\n",
       "\n",
       "    .dataframe thead th {\n",
       "        text-align: right;\n",
       "    }\n",
       "</style>\n",
       "<table border=\"1\" class=\"dataframe\">\n",
       "  <thead>\n",
       "    <tr style=\"text-align: right;\">\n",
       "      <th></th>\n",
       "      <th>Unnamed: 0</th>\n",
       "      <th>index</th>\n",
       "      <th>ID</th>\n",
       "      <th>Make</th>\n",
       "      <th>Model</th>\n",
       "      <th>Year</th>\n",
       "      <th>MSRP</th>\n",
       "      <th>Invoice</th>\n",
       "      <th>Colors exterior</th>\n",
       "      <th>Colors interior</th>\n",
       "      <th>...</th>\n",
       "      <th>Country of origin</th>\n",
       "      <th>Car classification</th>\n",
       "      <th>Platform code / generation number</th>\n",
       "      <th>Date added</th>\n",
       "      <th>EPA mileage (mpg) City</th>\n",
       "      <th>EPA mileage (mpg) Highway</th>\n",
       "      <th>Range (miles) City</th>\n",
       "      <th>Range (miles) Highway</th>\n",
       "      <th>MSRP Range low</th>\n",
       "      <th>MSRP Range high</th>\n",
       "    </tr>\n",
       "  </thead>\n",
       "  <tbody>\n",
       "    <tr>\n",
       "      <th>531</th>\n",
       "      <td>533</td>\n",
       "      <td>546</td>\n",
       "      <td>401819541</td>\n",
       "      <td>Toyota</td>\n",
       "      <td>Prius</td>\n",
       "      <td>2020</td>\n",
       "      <td>25535.0</td>\n",
       "      <td>24003.0</td>\n",
       "      <td>[{'color_name': 'lassic Silver Metallic', 'col...</td>\n",
       "      <td>[{'color_name': 'oonstone, cloth', 'color_code...</td>\n",
       "      <td>...</td>\n",
       "      <td>Japan</td>\n",
       "      <td>Compact car</td>\n",
       "      <td>XW50</td>\n",
       "      <td>2020-02-14 00:00:00</td>\n",
       "      <td>54.0</td>\n",
       "      <td>50.0</td>\n",
       "      <td>610.2</td>\n",
       "      <td>565.0</td>\n",
       "      <td>24,325</td>\n",
       "      <td>32,500</td>\n",
       "    </tr>\n",
       "    <tr>\n",
       "      <th>532</th>\n",
       "      <td>534</td>\n",
       "      <td>547</td>\n",
       "      <td>401819537</td>\n",
       "      <td>Toyota</td>\n",
       "      <td>Prius</td>\n",
       "      <td>2020</td>\n",
       "      <td>26935.0</td>\n",
       "      <td>25319.0</td>\n",
       "      <td>[{'color_name': 'lassic Silver Metallic', 'col...</td>\n",
       "      <td>[{'color_name': 'oonstone, cloth', 'color_code...</td>\n",
       "      <td>...</td>\n",
       "      <td>Japan</td>\n",
       "      <td>Compact car</td>\n",
       "      <td>XW50</td>\n",
       "      <td>2020-02-14 00:00:00</td>\n",
       "      <td>52.0</td>\n",
       "      <td>48.0</td>\n",
       "      <td>551.2</td>\n",
       "      <td>508.8</td>\n",
       "      <td>24,325</td>\n",
       "      <td>32,500</td>\n",
       "    </tr>\n",
       "    <tr>\n",
       "      <th>533</th>\n",
       "      <td>535</td>\n",
       "      <td>548</td>\n",
       "      <td>401819540</td>\n",
       "      <td>Toyota</td>\n",
       "      <td>Prius</td>\n",
       "      <td>2020</td>\n",
       "      <td>28375.0</td>\n",
       "      <td>26416.0</td>\n",
       "      <td>[{'color_name': 'lassic Silver Metallic', 'col...</td>\n",
       "      <td>[{'color_name': 'oonstone, leatherette', 'colo...</td>\n",
       "      <td>...</td>\n",
       "      <td>Japan</td>\n",
       "      <td>Compact car</td>\n",
       "      <td>XW50</td>\n",
       "      <td>2020-02-14 00:00:00</td>\n",
       "      <td>54.0</td>\n",
       "      <td>50.0</td>\n",
       "      <td>610.2</td>\n",
       "      <td>565.0</td>\n",
       "      <td>24,325</td>\n",
       "      <td>32,500</td>\n",
       "    </tr>\n",
       "    <tr>\n",
       "      <th>534</th>\n",
       "      <td>536</td>\n",
       "      <td>549</td>\n",
       "      <td>401819538</td>\n",
       "      <td>Toyota</td>\n",
       "      <td>Prius</td>\n",
       "      <td>2020</td>\n",
       "      <td>29375.0</td>\n",
       "      <td>27346.0</td>\n",
       "      <td>[{'color_name': 'lassic Silver Metallic', 'col...</td>\n",
       "      <td>[{'color_name': 'oonstone, leatherette', 'colo...</td>\n",
       "      <td>...</td>\n",
       "      <td>Japan</td>\n",
       "      <td>Compact car</td>\n",
       "      <td>XW50</td>\n",
       "      <td>2020-02-14 00:00:00</td>\n",
       "      <td>52.0</td>\n",
       "      <td>48.0</td>\n",
       "      <td>551.2</td>\n",
       "      <td>508.8</td>\n",
       "      <td>24,325</td>\n",
       "      <td>32,500</td>\n",
       "    </tr>\n",
       "    <tr>\n",
       "      <th>535</th>\n",
       "      <td>537</td>\n",
       "      <td>550</td>\n",
       "      <td>401819542</td>\n",
       "      <td>Toyota</td>\n",
       "      <td>Prius</td>\n",
       "      <td>2020</td>\n",
       "      <td>32500.0</td>\n",
       "      <td>30256.0</td>\n",
       "      <td>[{'color_name': 'lassic Silver Metallic', 'col...</td>\n",
       "      <td>[{'color_name': 'oonstone, leatherette', 'colo...</td>\n",
       "      <td>...</td>\n",
       "      <td>Japan</td>\n",
       "      <td>Compact car</td>\n",
       "      <td>XW50</td>\n",
       "      <td>2020-02-14 00:00:00</td>\n",
       "      <td>54.0</td>\n",
       "      <td>50.0</td>\n",
       "      <td>610.2</td>\n",
       "      <td>565.0</td>\n",
       "      <td>24,325</td>\n",
       "      <td>32,500</td>\n",
       "    </tr>\n",
       "  </tbody>\n",
       "</table>\n",
       "<p>5 rows × 99 columns</p>\n",
       "</div>"
      ],
      "text/plain": [
       "     Unnamed: 0  index         ID    Make  Model  Year     MSRP  Invoice  \\\n",
       "531         533    546  401819541  Toyota  Prius  2020  25535.0  24003.0   \n",
       "532         534    547  401819537  Toyota  Prius  2020  26935.0  25319.0   \n",
       "533         535    548  401819540  Toyota  Prius  2020  28375.0  26416.0   \n",
       "534         536    549  401819538  Toyota  Prius  2020  29375.0  27346.0   \n",
       "535         537    550  401819542  Toyota  Prius  2020  32500.0  30256.0   \n",
       "\n",
       "                                       Colors exterior  \\\n",
       "531  [{'color_name': 'lassic Silver Metallic', 'col...   \n",
       "532  [{'color_name': 'lassic Silver Metallic', 'col...   \n",
       "533  [{'color_name': 'lassic Silver Metallic', 'col...   \n",
       "534  [{'color_name': 'lassic Silver Metallic', 'col...   \n",
       "535  [{'color_name': 'lassic Silver Metallic', 'col...   \n",
       "\n",
       "                                       Colors interior  ... Country of origin  \\\n",
       "531  [{'color_name': 'oonstone, cloth', 'color_code...  ...             Japan   \n",
       "532  [{'color_name': 'oonstone, cloth', 'color_code...  ...             Japan   \n",
       "533  [{'color_name': 'oonstone, leatherette', 'colo...  ...             Japan   \n",
       "534  [{'color_name': 'oonstone, leatherette', 'colo...  ...             Japan   \n",
       "535  [{'color_name': 'oonstone, leatherette', 'colo...  ...             Japan   \n",
       "\n",
       "     Car classification  Platform code / generation number  \\\n",
       "531         Compact car                               XW50   \n",
       "532         Compact car                               XW50   \n",
       "533         Compact car                               XW50   \n",
       "534         Compact car                               XW50   \n",
       "535         Compact car                               XW50   \n",
       "\n",
       "              Date added  EPA mileage (mpg) City  EPA mileage (mpg) Highway  \\\n",
       "531  2020-02-14 00:00:00                    54.0                       50.0   \n",
       "532  2020-02-14 00:00:00                    52.0                       48.0   \n",
       "533  2020-02-14 00:00:00                    54.0                       50.0   \n",
       "534  2020-02-14 00:00:00                    52.0                       48.0   \n",
       "535  2020-02-14 00:00:00                    54.0                       50.0   \n",
       "\n",
       "     Range (miles) City  Range (miles) Highway  MSRP Range low  \\\n",
       "531               610.2                  565.0         24,325    \n",
       "532               551.2                  508.8         24,325    \n",
       "533               610.2                  565.0         24,325    \n",
       "534               551.2                  508.8         24,325    \n",
       "535               610.2                  565.0         24,325    \n",
       "\n",
       "     MSRP Range high  \n",
       "531           32,500  \n",
       "532           32,500  \n",
       "533           32,500  \n",
       "534           32,500  \n",
       "535           32,500  \n",
       "\n",
       "[5 rows x 99 columns]"
      ]
     },
     "execution_count": 103,
     "metadata": {},
     "output_type": "execute_result"
    }
   ],
   "source": [
    "df.tail(5)"
   ]
  }
 ],
 "metadata": {
  "kernelspec": {
   "display_name": "Python 3",
   "language": "python",
   "name": "python3"
  },
  "language_info": {
   "codemirror_mode": {
    "name": "ipython",
    "version": 3
   },
   "file_extension": ".py",
   "mimetype": "text/x-python",
   "name": "python",
   "nbconvert_exporter": "python",
   "pygments_lexer": "ipython3",
   "version": "3.8.3"
  }
 },
 "nbformat": 4,
 "nbformat_minor": 4
}
