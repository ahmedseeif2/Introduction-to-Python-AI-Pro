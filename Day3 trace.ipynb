{
 "cells": [
  {
   "cell_type": "code",
   "execution_count": 8,
   "metadata": {},
   "outputs": [
    {
     "name": "stdout",
     "output_type": "stream",
     "text": [
      "hey_h\n",
      "hey_hey_hey_hey_hey_\n"
     ]
    }
   ],
   "source": [
    "class Document:    \n",
    "    limit = 5     \n",
    "    def __init__(self, title, authors, text):        \n",
    "        self.title = title        \n",
    "        self.authors = authors        \n",
    "        self.text = text     \n",
    "    def get_text(self, short_version = True):\n",
    "        if not short_version or len(self.text) < Document.limit:\n",
    "            return self.text\n",
    " \n",
    "        return self.text[:Document.limit]\n",
    "class Article(Document):\n",
    "    def get_text(self):\n",
    "        return super().get_text(False)\n",
    " \n",
    " \n",
    "class Book(Document):\n",
    "    pass\n",
    " \n",
    " \n",
    "if __name__ == '__main__':\n",
    "    b = Book('Mastering Python', ['Mostafa'], 'hey_' * 5)\n",
    "    print(b.get_text())\n",
    " \n",
    "    a = Article('Mastering Python', ['Mostafa'], 'hey_' * 5)\n",
    "    print(a.get_text())"
   ]
  },
  {
   "cell_type": "code",
   "execution_count": 6,
   "metadata": {},
   "outputs": [
    {
     "name": "stdout",
     "output_type": "stream",
     "text": [
      "False\n"
     ]
    }
   ],
   "source": [
    "class A:    \n",
    "    pass \n",
    "class B(A):    \n",
    "    pass \n",
    "if __name__ == '__main__':    \n",
    "    print(isinstance(B,A))"
   ]
  },
  {
   "cell_type": "code",
   "execution_count": 12,
   "metadata": {},
   "outputs": [
    {
     "name": "stdout",
     "output_type": "stream",
     "text": [
      "False\n"
     ]
    }
   ],
   "source": [
    "class Document:    \n",
    "    limit = 5     \n",
    "    def __init__(self, title, authors, text):        \n",
    "        self.title = title        \n",
    "        self.authors = authors        \n",
    "        self.text = text  \n",
    "        \n",
    "    def get_text(self, short_version = True):\n",
    "        if not short_version or len(self.text) < Document.limit:\n",
    "            return self.text\n",
    " \n",
    "        return self.text[:Document.limit]\n",
    "\n",
    "class Article(Document):\n",
    "    def get_text(self):\n",
    "        return super().get_text(False)\n",
    " \n",
    " \n",
    "if __name__ == '__main__':\n",
    "    print(issubclass(Document, Article))\n"
   ]
  },
  {
   "cell_type": "code",
   "execution_count": 13,
   "metadata": {},
   "outputs": [
    {
     "name": "stdout",
     "output_type": "stream",
     "text": [
      "False\n"
     ]
    }
   ],
   "source": [
    "print(issubclass(type(True), float))"
   ]
  },
  {
   "cell_type": "code",
   "execution_count": null,
   "metadata": {},
   "outputs": [],
   "source": []
  },
  {
   "cell_type": "code",
   "execution_count": 16,
   "metadata": {},
   "outputs": [
    {
     "name": "stdout",
     "output_type": "stream",
     "text": [
      "('Mostafa', 510) (10, 51) CS\n"
     ]
    }
   ],
   "source": [
    "class Employee:    \n",
    "    def __init__(self, name, salary):        \n",
    "        super().__init__()        \n",
    "        self.name = name        \n",
    "        self.salary = salary     \n",
    "    def __repr__(self):        \n",
    "        return f'{self.name, self.salary}' \n",
    " \n",
    "class TemporaryEmployee(Employee):\n",
    "    def __init__(self, name, hours, dollars_per_hour):\n",
    "        super().__init__(name, hours * dollars_per_hour)\n",
    "        self.hours = hours\n",
    "        self.dollars_per_hour = dollars_per_hour\n",
    " \n",
    "    def __repr__(self):\n",
    "        return super().__repr__() + f' {self.hours, self.dollars_per_hour}'\n",
    " \n",
    " \n",
    "class Consultant(TemporaryEmployee):\n",
    "    def __init__(self, name, hours, dollars_per_hour, specialization):\n",
    "        super().__init__(name, hours, dollars_per_hour)\n",
    "        self.specialization = specialization\n",
    " \n",
    "    def __repr__(self):\n",
    "        return super().__repr__() + f' {self.specialization}'\n",
    " \n",
    " \n",
    "obj = Consultant('Mostafa', 10, 51, 'CS')\n",
    "print(repr(obj))"
   ]
  },
  {
   "cell_type": "code",
   "execution_count": 17,
   "metadata": {},
   "outputs": [
    {
     "name": "stdout",
     "output_type": "stream",
     "text": [
      "B\n"
     ]
    }
   ],
   "source": [
    "class A:    \n",
    "    def __init__(self):        \n",
    "        self.id = self.get_id()     \n",
    "    def get_id(self):        \n",
    "        return 'A'  \n",
    "class B(A):\n",
    "    def __init__(self):\n",
    "        super().__init__()\n",
    " \n",
    "    def get_id(self):\n",
    "        return 'B'\n",
    " \n",
    " \n",
    "print(B().id)"
   ]
  },
  {
   "cell_type": "code",
   "execution_count": null,
   "metadata": {},
   "outputs": [],
   "source": [
    "class GraphAlgorithm:    \n",
    "    \n",
    "    def __init__(self):        \n",
    "        \n",
    "        self.algorithms_steps = [self.step1_general, self.step2_abstract, self.step3_general]     \n",
    "    def run(self):        \n",
    "        return ''.join([step() for step in self.algorithms_steps])     \n",
    "    \n",
    "    def step1_general(self):        \n",
    "        return 'G1'\n",
    " \n",
    "    def step3_general(self):\n",
    "        return 'G3'\n",
    " \n",
    "class Dijkstra(GraphAlgorithm):\n",
    "    def __init__(self):\n",
    "        super().__init__()\n",
    "        self.algorithms_steps.append(self.end)\n",
    " \n",
    "    def end(self):\n",
    "        return ' Bye'\n",
    " \n",
    " \n",
    "class DijkstraPriorityQueue(Dijkstra):\n",
    "    def __init__(self):\n",
    "        super().__init__()\n",
    " \n",
    "    def step2_abstract(self):\n",
    "        return 'APQ'\n",
    " \n",
    " \n",
    "print(DijkstraPriorityQueue().run())\n",
    "\n",
    "\n",
    "#######################################################################################################\n",
    "\n",
    "\n"
   ]
  }
 ],
 "metadata": {
  "kernelspec": {
   "display_name": "Python 3",
   "language": "python",
   "name": "python3"
  },
  "language_info": {
   "codemirror_mode": {
    "name": "ipython",
    "version": 3
   },
   "file_extension": ".py",
   "mimetype": "text/x-python",
   "name": "python",
   "nbconvert_exporter": "python",
   "pygments_lexer": "ipython3",
   "version": "3.8.3"
  }
 },
 "nbformat": 4,
 "nbformat_minor": 4
}
