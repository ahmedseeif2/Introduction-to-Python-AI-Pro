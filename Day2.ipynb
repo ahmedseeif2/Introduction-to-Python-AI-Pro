{
 "cells": [
  {
   "cell_type": "code",
   "execution_count": 94,
   "metadata": {},
   "outputs": [],
   "source": [
    "def ceckprime():\n",
    "    my_number = int(input('enter the number :'))\n",
    "    for i in range(2, my_number):\n",
    "        if (my_number % i) == 0:\n",
    "            print('not prime')\n",
    "            break\n",
    "        else:\n",
    "            print('prime')\n",
    "            break\n"
   ]
  },
  {
   "cell_type": "code",
   "execution_count": 95,
   "metadata": {},
   "outputs": [
    {
     "name": "stdout",
     "output_type": "stream",
     "text": [
      "enter the number :1\n"
     ]
    }
   ],
   "source": [
    "ceckprime()"
   ]
  },
  {
   "cell_type": "code",
   "execution_count": 25,
   "metadata": {},
   "outputs": [
    {
     "name": "stdout",
     "output_type": "stream",
     "text": [
      "enter the number :10\n",
      "The factorial of 10 is : 3628800\n"
     ]
    }
   ],
   "source": [
    "n = int(input('enter the number :'))\n",
    "start = 1\n",
    "  \n",
    "for i in range(1,n+1):\n",
    "    start = start * i\n",
    "      \n",
    "print (f\"The factorial of {n} is : {start}\")"
   ]
  },
  {
   "cell_type": "code",
   "execution_count": 96,
   "metadata": {},
   "outputs": [
    {
     "data": {
      "text/plain": [
       "55"
      ]
     },
     "execution_count": 96,
     "metadata": {},
     "output_type": "execute_result"
    }
   ],
   "source": [
    "def sum0to10(n):\n",
    "    if n <= 1:\n",
    "        return n\n",
    "    else:\n",
    "        return n + sum0to10(n-1)\n",
    "sum0to10(10)"
   ]
  },
  {
   "cell_type": "code",
   "execution_count": 97,
   "metadata": {},
   "outputs": [],
   "source": [
    "my_list = [1,2,3,4,5,6,7,8]"
   ]
  },
  {
   "cell_type": "code",
   "execution_count": 52,
   "metadata": {},
   "outputs": [
    {
     "data": {
      "text/plain": [
       "[2, 4, 6, 8]"
      ]
     },
     "execution_count": 52,
     "metadata": {},
     "output_type": "execute_result"
    }
   ],
   "source": [
    "[x for x in my_list if x %2 ==0]"
   ]
  },
  {
   "cell_type": "code",
   "execution_count": 53,
   "metadata": {},
   "outputs": [
    {
     "name": "stdout",
     "output_type": "stream",
     "text": [
      "[2, 4, 6, 8]\n"
     ]
    }
   ],
   "source": [
    "even = []\n",
    "for num in my_list:\n",
    "    if num % 2 ==0:\n",
    "        even.append(num)\n",
    "print(even)"
   ]
  },
  {
   "cell_type": "code",
   "execution_count": 54,
   "metadata": {},
   "outputs": [
    {
     "data": {
      "text/plain": [
       "[2, 4, 6, 8]"
      ]
     },
     "execution_count": 54,
     "metadata": {},
     "output_type": "execute_result"
    }
   ],
   "source": [
    "list(filter(lambda x : x %2 ==0 , my_list))"
   ]
  },
  {
   "cell_type": "markdown",
   "metadata": {},
   "source": [
    "## Q1\n",
    "1.\tRead an integer N, then do the following\n",
    "\n",
    "> a.\tIf the number is even: print the last digit of it<br>\n",
    "\n",
    "\n",
    ">b.\tIf the number is odd: do the following:\n",
    ">>i.\tIf number < 1000, print last 2 digits<br>\n",
    "ii.\tIf number >= 1000 and number < 1000000, print last 4 digits<br>\n",
    "iii.\tOtherwise, print its negative value\n",
    "\n",
    "2.\tLet's Do It and think: 1) Code\t2) Good tests\n",
    "3.\tTesting examples of good coverage\n",
    "234  4\n",
    "\n",
    "157  57\n",
    "\n",
    "567169  7169\n",
    "\n",
    "1000001  -1000001\n",
    "\n"
   ]
  },
  {
   "cell_type": "code",
   "execution_count": 88,
   "metadata": {},
   "outputs": [
    {
     "name": "stdout",
     "output_type": "stream",
     "text": [
      "enter the number :5\n",
      "5\n"
     ]
    }
   ],
   "source": [
    "n = int(input('enter the number :'))\n",
    "if n % 2 == 0:\n",
    "    print(n % 10)\n",
    "else:\n",
    "    if n <1000:\n",
    "        print(n % 100)   \n",
    "    elif n >= 1000 and n <1000000:\n",
    "        print(n % 10000)\n",
    "    else:\n",
    "        print(n*-1)\n",
    "        \n",
    "    "
   ]
  },
  {
   "cell_type": "code",
   "execution_count": null,
   "metadata": {},
   "outputs": [],
   "source": []
  },
  {
   "cell_type": "markdown",
   "metadata": {},
   "source": [
    "## Q2\n",
    "\n",
    "•\tRead an integer X\n",
    "\n",
    "•\tPrint all numbers that are divisible by 3 from  1 to X.\n",
    "\n",
    "•\tThese are 3, 6, 9, 12, 15, 18, ….. (multiple of 3)\n",
    "\n",
    "•\tSee example for input 12   output:  3 6 9 12\n"
   ]
  },
  {
   "cell_type": "code",
   "execution_count": 68,
   "metadata": {},
   "outputs": [
    {
     "name": "stdout",
     "output_type": "stream",
     "text": [
      "enter the number :12\n",
      "3\n",
      "6\n",
      "9\n",
      "12\n"
     ]
    }
   ],
   "source": [
    "n = int(input('enter the number :'))\n",
    "\n",
    "for num in range(1, n+1):\n",
    "    if num % 3 == 0:\n",
    "        print(num)"
   ]
  },
  {
   "cell_type": "markdown",
   "metadata": {},
   "source": [
    "## Q3\n",
    "Write a Python program to print the even numbers from a given list\n",
    "\n",
    "Sample List : [1, 2, 3, 4, 5, 6, 7, 8, 9]\n",
    "Expected Result : [2, 4, 6, 8]\n"
   ]
  },
  {
   "cell_type": "code",
   "execution_count": 69,
   "metadata": {},
   "outputs": [
    {
     "name": "stdout",
     "output_type": "stream",
     "text": [
      "[2, 4, 6, 8]\n"
     ]
    }
   ],
   "source": [
    "\n",
    "my_list =  [1, 2, 3, 4, 5, 6, 7, 8, 9]\n",
    "even = []\n",
    "for num in my_list:\n",
    "    if num % 2 ==0:\n",
    "        even.append(num)\n",
    "print(even)"
   ]
  },
  {
   "cell_type": "markdown",
   "metadata": {},
   "source": [
    "## Q4\n",
    "Write a Python function that takes a number as a parameter and check the number is prime or not\n"
   ]
  },
  {
   "cell_type": "code",
   "execution_count": 70,
   "metadata": {},
   "outputs": [
    {
     "name": "stdout",
     "output_type": "stream",
     "text": [
      "enter the number :7\n",
      "prime\n"
     ]
    }
   ],
   "source": [
    "def ceckprime():\n",
    "    my_number = int(input('enter the number :'))\n",
    "    for i in range(2, my_number):\n",
    "        if (my_number % i) == 0:\n",
    "            print('not prime')\n",
    "            break\n",
    "        else:\n",
    "            print('prime')\n",
    "            break\n",
    "ceckprime()"
   ]
  },
  {
   "cell_type": "markdown",
   "metadata": {},
   "source": [
    "## Q5\n",
    "Write a Python function to calculate the factorial of a number (a non-negative integer). The function accepts the number as an argument\n"
   ]
  },
  {
   "cell_type": "code",
   "execution_count": 73,
   "metadata": {},
   "outputs": [
    {
     "name": "stdout",
     "output_type": "stream",
     "text": [
      "enter the number :6\n",
      "The factorial of 6 is : 720\n"
     ]
    }
   ],
   "source": [
    "n = int(input('enter the number :'))\n",
    "\n",
    "def fact(n):\n",
    "    start = 1\n",
    "    for i in range(1,n+1):\n",
    "        start = start * i\n",
    "    print (f\"The factorial of {n} is : {start}\")\n",
    "fact(n)"
   ]
  },
  {
   "cell_type": "code",
   "execution_count": 91,
   "metadata": {},
   "outputs": [
    {
     "name": "stdout",
     "output_type": "stream",
     "text": [
      "enter the number :6\n",
      "The factorial of 6 is : 720\n"
     ]
    }
   ],
   "source": [
    "n = int(input('enter the number :'))\n",
    "\n",
    "def fact(n):\n",
    "    if n == 1:  \n",
    "        return n  \n",
    "    else:  \n",
    "        return n*fact(n-1)  \n",
    "print (f\"The factorial of {n} is : {fact(n)}\")"
   ]
  },
  {
   "cell_type": "markdown",
   "metadata": {},
   "source": [
    "## Q6\n",
    "Create a function showEmployee() in such a way that it should accept \n",
    "\n",
    "employee name, and it’s salary and \n",
    "\n",
    "display both, and if the salary is missing in function call it should show it as 9000\n"
   ]
  },
  {
   "cell_type": "code",
   "execution_count": 77,
   "metadata": {},
   "outputs": [
    {
     "name": "stdout",
     "output_type": "stream",
     "text": [
      "employee name is ahmed \n",
      "employee salary is  9000\n"
     ]
    }
   ],
   "source": [
    "def showEmployee(name , salary = 9000):\n",
    "    print(\"employee name is\" , name ,\"\\n\" +\"employee salary is \", salary )\n",
    "    \n",
    "showEmployee(\"ahmed\" , salary = 9000)"
   ]
  },
  {
   "cell_type": "markdown",
   "metadata": {},
   "source": [
    "## Q7\n",
    "Write a recursive function to calculate the sum of numbers from 0 to 10\n"
   ]
  },
  {
   "cell_type": "code",
   "execution_count": 79,
   "metadata": {},
   "outputs": [
    {
     "data": {
      "text/plain": [
       "55"
      ]
     },
     "execution_count": 79,
     "metadata": {},
     "output_type": "execute_result"
    }
   ],
   "source": [
    "def sum0to10(n):\n",
    "    if n <= 1:\n",
    "        return n\n",
    "    else:\n",
    "        return n + sum0to10(n-1)\n",
    "sum0to10(10)"
   ]
  },
  {
   "cell_type": "markdown",
   "metadata": {},
   "source": [
    "## Q8\n",
    "Write a function calculation() \n",
    "\n",
    "such that it can accept two variables and calculate the addition and subtraction of it. \n",
    "\n",
    "\n",
    "And also it must return both addition and subtraction in a single return call\n"
   ]
  },
  {
   "cell_type": "code",
   "execution_count": 82,
   "metadata": {},
   "outputs": [
    {
     "name": "stdout",
     "output_type": "stream",
     "text": [
      "enter the first number :10\n",
      "enter the second number :20\n"
     ]
    },
    {
     "data": {
      "text/plain": [
       "(30, -10)"
      ]
     },
     "execution_count": 82,
     "metadata": {},
     "output_type": "execute_result"
    }
   ],
   "source": [
    "number1 = int(input('enter the first number :'))\n",
    "number2 = int(input('enter the second number :'))\n",
    "def calculation(number1 , number2):\n",
    "    return number1+number2 , number1-number2\n",
    "calculation(number1 , number2)"
   ]
  },
  {
   "cell_type": "code",
   "execution_count": null,
   "metadata": {},
   "outputs": [],
   "source": []
  }
 ],
 "metadata": {
  "kernelspec": {
   "display_name": "Python 3",
   "language": "python",
   "name": "python3"
  },
  "language_info": {
   "codemirror_mode": {
    "name": "ipython",
    "version": 3
   },
   "file_extension": ".py",
   "mimetype": "text/x-python",
   "name": "python",
   "nbconvert_exporter": "python",
   "pygments_lexer": "ipython3",
   "version": "3.8.3"
  }
 },
 "nbformat": 4,
 "nbformat_minor": 4
}
